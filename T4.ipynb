{
  "nbformat": 4,
  "nbformat_minor": 0,
  "metadata": {
    "colab": {
      "name": "T4",
      "provenance": [],
      "collapsed_sections": []
    },
    "kernelspec": {
      "display_name": "Python 3",
      "name": "python3"
    },
    "language_info": {
      "name": "python"
    }
  },
  "cells": [
    {
      "cell_type": "code",
      "metadata": {
        "colab": {
          "base_uri": "https://localhost:8080/"
        },
        "id": "SQisI9vOLMdR",
        "outputId": "4709d547-ed67-49cb-cf15-4a8a39cb5b4d"
      },
      "source": [
        "!pip install aed-utilities"
      ],
      "execution_count": null,
      "outputs": [
        {
          "output_type": "stream",
          "text": [
            "Collecting aed-utilities\n",
            "  Downloading https://files.pythonhosted.org/packages/d9/53/1fb6dd5ad276ed9857cc448e7df0efc7f0f68c1818e8732bd5941ef99a7e/aed_utilities-0.5.2.tar.gz\n",
            "Collecting validators\n",
            "  Downloading https://files.pythonhosted.org/packages/db/2f/7fed3ee94ad665ad2c1de87f858f10a7785251ff75b4fd47987888d07ef1/validators-0.18.2-py3-none-any.whl\n",
            "Requirement already satisfied: beautifulsoup4 in /usr/local/lib/python3.7/dist-packages (from aed-utilities) (4.6.3)\n",
            "Requirement already satisfied: six>=1.4.0 in /usr/local/lib/python3.7/dist-packages (from validators->aed-utilities) (1.15.0)\n",
            "Requirement already satisfied: decorator>=3.4.0 in /usr/local/lib/python3.7/dist-packages (from validators->aed-utilities) (4.4.2)\n",
            "Building wheels for collected packages: aed-utilities\n",
            "  Building wheel for aed-utilities (setup.py) ... \u001b[?25l\u001b[?25hdone\n",
            "  Created wheel for aed-utilities: filename=aed_utilities-0.5.2-cp37-none-any.whl size=4467 sha256=d09ab388df1b30cc242b5f5836f85d8c26e96fa9dd176fafbbd19049ca4b3b61\n",
            "  Stored in directory: /root/.cache/pip/wheels/68/e6/33/33cadc26cc3b96e6f5830bb498d2c521b2e0fca7069fd52473\n",
            "Successfully built aed-utilities\n",
            "Installing collected packages: validators, aed-utilities\n",
            "Successfully installed aed-utilities-0.5.2 validators-0.18.2\n"
          ],
          "name": "stdout"
        }
      ]
    },
    {
      "cell_type": "code",
      "metadata": {
        "id": "y8SIXr8ELQFd"
      },
      "source": [
        "#Kevin Alexis Iturra Carreño\n",
        "import aed_utilities as aed\n",
        "class Nodoi:\n",
        "    def __init__(self, izq, info, der):\n",
        "        self.izq=izq\n",
        "        self.info=info\n",
        "        self.der=der\n",
        "    def postorden(self):\n",
        "        self.izq.postorden()   \n",
        "        self.der.postorden()\n",
        "        print(self.info, end=\" \")\n",
        "    # Función auxiliar que se llama así misma pero usando los nodos del árbol\n",
        "    def Auxiliar(self,x):\n",
        "        # Si self.info es \"+\", entonces devuelva el string de aplicar la función auxiliar al nodo izquerdo más el string de aplicarlo al nodo derecho\n",
        "        # No olvidemos ponerle paréntesis al comenzar y finalizar para evitar problemas cuando dibuje nuestro árbol de expresiones :)\n",
        "        if self.info==\"+\":\n",
        "          return \"(\"+str(self.izq.Auxiliar(x))+\"+\"+str(self.der.Auxiliar(x))+\")\"\n",
        "        # Si self.info es \"-\", entonces devuelva el string de aplicar la función auxiliar al nodo izquerdo menos el string de aplicarlo al nodo derecho\n",
        "        # No olvidemos ponerle paréntesis al comenzar y finalizar para evitar problemas cuando dibuje nuestro árbol de expresiones :)\n",
        "        if self.info==\"-\":\n",
        "          return \"(\"+str(self.izq.Auxiliar(x))+\"-\"+str(self.der.Auxiliar(x))+\")\"\n",
        "        # Si self.info es \"*\", entonces devuelva el string de aplicar la función auxiliar al nodo izquerdo multiplicado el string de aplicarlo al nodo derecho\n",
        "        # No olvidemos ponerle paréntesis al comenzar y finalizar para evitar problemas cuando dibuje nuestro árbol de expresiones :)\n",
        "        if self.info==\"*\":\n",
        "          return \"(\"+str(self.izq.Auxiliar(x))+\"*\"+str(self.der.Auxiliar(x))+\")\"\n",
        "        # Si self.info es \"/\", entonces vea si la llamada de la función al nodo derecha es igual a 1, si lo es, \n",
        "        # entonces retorna la llamada al nodo izquierdo de la función\n",
        "        # No olvidemos ponerle paréntesis al comenzar y finalizar para evitar problemas cuando dibuje nuestro árbol de expresiones :)\n",
        "        if self.info==\"/\":\n",
        "          if self.der.Auxiliar(x)==1:\n",
        "            return str(self.izq.Auxiliar(x))\n",
        "          # Sino, devuelva el string de aplicar la función auxiliar al nodo izquerdo más el string de aplicarlo al nodo derecho\n",
        "          else:\n",
        "            return \"(\"+str(self.izq.Auxiliar(x))+\"/\"+str(self.der.Auxiliar(x))+\")\"\n",
        "\n",
        "    def derivada(self,x):\n",
        "        # Si el nodo izquierdo y el derecho son vacío, retorna el string de la derivada del nodo info\n",
        "        if self.izq==None and self.der==None:\n",
        "          return str(self.info.derivada(x))\n",
        "        # Si el nodo información es \"+\" retorna el string de aplicar la derivada al nodo izquierdo más el string de aplicar la derivada el nodo derecho\n",
        "        # En otras palabras, sigue el principio de la derivada de la suma, (f+g)'=f'+g'\n",
        "        # No olvidemos ponerle paréntesis al comenzar y finalizar para evitar problemas cuando dibuje nuestro árbol de expresiones :)\n",
        "        if self.info==\"+\":\n",
        "            return \"(\"+str(self.izq.derivada(x))+\"+\"+str(self.der.derivada(x))+\")\"\n",
        "        # Si el nodo información es \"-\" retorna el string de aplicar la derivada al nodo izquierdo menos el string de aplicar la derivada el nodo derecho\n",
        "        # En otras palabras, sigue el principio de la derivada de la resta, (f-g)'=f'-g'\n",
        "        # No olvidemos ponerle paréntesis al comenzar y finalizar para evitar problemas cuando dibuje nuestro árbol de expresiones :)\n",
        "        if self.info==\"-\":\n",
        "            return \"(\"+str(self.izq.derivada(x))+\"-\"+str(self.der.derivada(x))+\")\"\n",
        "        # Si el nodo información es \"*\",\n",
        "        # retorna el string de aplicar la derivada al nodo izquierdo por el string de aplicar la función auxiliar al nodo derecho\n",
        "        # más el string de aplicar la derivada al nodo derecho por el string de aplicar la función auxiliar al nodo izquierdo,\n",
        "        # en otras palabras, sigue el principio de la derivada de la multiplicación, (f*g)'=f'*g + g'*f\n",
        "        # No olvidemos ponerle paréntesis en todos los lugares necesarios para evitar problemas cuando dibuje nuestro árbol de expresiones :)\n",
        "        if self.info==\"*\":\n",
        "          return \"(\"+\"(\"+str(self.izq.derivada(x))+\"*\"+str(self.der.Auxiliar(x))+\")\"+\"+\"+\"(\"+str(self.der.derivada(x))+\"*\"+str(self.izq.Auxiliar(x))+\")\"+\")\"\n",
        "        # Si el nodo información es \"/\",\n",
        "        # retorna el string de aplicar la derivada al nodo izquierdo por el string de aplicar la función auxiliar al nodo derecho\n",
        "        # menos el string de aplicar la derivada al nodo derecho por el string de aplicar la función auxiliar al nodo izquierdo\n",
        "        # dividido por el string de aplicar la función auxiliar al nodo derecho por el string de aplicar la función auxiliar al nodo derecho\n",
        "        # en otras palabras, sigue el principio de la derivada de la división, (f/g)'=(f'*g - g'*f)/g^2\n",
        "        # No olvidemos ponerle paréntesis en todos los lugares necesarios para evitar problemas cuando dibuje nuestro árbol de expresiones :)\n",
        "        if self.info==\"/\":\n",
        "          return \"(\"+\"(\"+\"(\"+str(self.izq.derivada(x))+\"*\"+str(self.der.Auxiliar(x))+\")\"+\"-\"+\"(\"+str(self.der.derivada(x))+\"*\"+str(self.izq.Auxiliar(x))+\")\"+\")\"+\"/\"+\"(\"+str(self.der.Auxiliar(x))+\"*\"+str(self.der.Auxiliar(x))+\")\"+\")\"\n",
        "        # Si el nodo información es \"^\",\n",
        "        # retorna el string de aplicar la función auxiliar al nodo izquierdo elevarlo al string de aplicar la función auxiliar al nodo derecho\n",
        "        # menos el string 1 y todo lo anterior por el string de aplicar la función auxiliar al nodo derecho \n",
        "        #por el string de aplicar la derivada al nodo izquierdo,\n",
        "        # en otras palabras, sigue la regla de la cadena para funciones del tipo x^algo, (f^numero)'=numero*f^(numero-1)*f'\n",
        "        # No olvidemos ponerle paréntesis en todos los lugares necesarios para evitar problemas cuando dibuje nuestro árbol de expresiones :)\n",
        "        if self.info==\"^\":\n",
        "          return \"(\"+\"(\"+str(self.der.Auxiliar(x))+\"*\"+str(self.izq.Auxiliar(x))+\")\"+\"^\"+\"(\"+str(self.der.Auxiliar(x))+\"-\"+str(1)+\")\"+\"*\"+str(self.izq.derivada(x))+\")\"\n",
        "\n",
        "class Nodoe:\n",
        "    def __init__(self, info):\n",
        "        self.info=info\n",
        "    def postorden(self):\n",
        "        print(self.info, end=\" \")\n",
        "    # También definimos la función auxiliar en el nodoe pero es más sencilla ya que por tratarse de las hojas del árbol solo debe devolver self.info\n",
        "    def Auxiliar(self,x):\n",
        "        return self.info\n",
        "    def derivada(self,x):\n",
        "        # La simplicidad se debe al mismo argumenta, al estar en las hojas solo debemos verificar si la función es igual a la variable o no\n",
        "        # Cuando la hoja es igual a la variable retorna 1\n",
        "        if self.info==x:\n",
        "          return str(1)\n",
        "        # Cuando es diferente a la variable retorna 0\n",
        "        else:\n",
        "          return str(0)\n",
        "\n",
        "class Arbol:\n",
        "    def __init__(self,formula):\n",
        "        if type(formula)!=str: # se supone que viene el árbol ya construído\n",
        "          self.raiz=formula\n",
        "          return\n",
        "        # la fórmula viene en forma de string\n",
        "        global k\n",
        "        global s\n",
        "        s=formula+\";\" # agregamos una marca de fin de la entrada\n",
        "        k=0 # indica próximo caracter por procesar\n",
        "        # definimos funciones para analizar la fórmula\n",
        "        def expresion(): # retorna puntero a la raíz de un árbol que representa a la fórmula s\n",
        "            global k\n",
        "            global s\n",
        "            a=factor()\n",
        "            while s[k]==\"+\" or s[k]==\"-\":\n",
        "                op=s[k]\n",
        "                k+=1\n",
        "                b=factor()\n",
        "                a=Nodoi(a,op,b)\n",
        "            return a\n",
        "        def factor():\n",
        "            global k\n",
        "            global s\n",
        "            a=termino()\n",
        "            while s[k]==\"*\" or s[k]==\"/\":\n",
        "                op=s[k]\n",
        "                k+=1\n",
        "                b=termino()\n",
        "                a=Nodoi(a,op,b)\n",
        "            return a\n",
        "        def termino():\n",
        "            global k\n",
        "            global s\n",
        "            a=primario()\n",
        "            if s[k]==\"^\":\n",
        "                op=s[k]\n",
        "                k+=1\n",
        "                b=termino()\n",
        "                a=Nodoi(a,op,b)\n",
        "            return a\n",
        "        def primario(): # posible constante, variable o formula parentizada\n",
        "            global k\n",
        "            global s\n",
        "            if s[k].isalpha() or s[k].isdigit():\n",
        "                a=Nodoe(s[k])\n",
        "                k+=1\n",
        "                return a\n",
        "            if s[k]==\"(\": # fórmula parentizada\n",
        "                k+=1\n",
        "                a=expresion()\n",
        "                if s[k]!=\")\":\n",
        "                    print(\"Error: Falta cierra paréntesis: \"+formula[k:])\n",
        "                    assert False\n",
        "                k+=1\n",
        "                return a\n",
        "            print(\"Error: Falta variable, número o abre paréntesis: \"+formula[k:])\n",
        "            assert False\n",
        "              \n",
        "        a=expresion()\n",
        "        if s[k]!=\";\":\n",
        "            print(\"Error: Basura al final de la fórmula: \"+formula[k:])\n",
        "            assert False                \n",
        "        self.raiz=a\n",
        "    \n",
        "    #El str lo transforma a arbol\n",
        "    def derivada(self,x):\n",
        "        return Arbol(self.raiz.derivada(x))\n",
        "    \n",
        "    def dibujar(self):\n",
        "      btd = aed.BinaryTreeDrawer(fieldData=\"info\", fieldLeft=\"izq\", fieldRight=\"der\",classNone=Nodoe )\n",
        "      btd.draw_tree(self, \"raiz\")\n",
        "\n",
        "#Para la función simplificar basta ccrear una función que reciba como parámetro el árbol derivado,\n",
        "# Si la raíz es \"+\", \"-\", \"*\" o \"/\" entonces retorna el árbol\n",
        "# Sino, creamos dos variables una que llame a la función simplificar para el nodo izq y otra para el derecho(recursividad)\n",
        "# Si self.info del nodo izquierdo es 0, vea si la raíz es \"+\" o \"-\", si lo es, que retorne la simplificación del nodo izquierdo, \n",
        "# si es \"*\" o \"/\" que retorne la simplificación del nodo derecho\n",
        "# Hacer lo anterior análogamente con self.info del nodo derecho,\n",
        "# Si self.info de la simplificación del nodo izquierdo es 1 y la raíz del árbol es \"*\", entonces retorna la simplificación del nodo derecho,\n",
        "# Si self.info de la simplificación del nodo derecho es 1 y, la raíz del árbol es \"*\" o \"/\", retorna la simplificación del nodo izquierdo.\n",
        "# Sino, retorna un nuevo árbol con las simplificaciones."
      ],
      "execution_count": null,
      "outputs": []
    },
    {
      "cell_type": "code",
      "metadata": {
        "id": "PbuZWvHDLUoV"
      },
      "source": [
        "def probar_derivada(formula,x):\n",
        "    f=Arbol(formula)\n",
        "    print(\"Fórmula original:\")\n",
        "    f.dibujar()\n",
        "    print(f.derivada(x))\n",
        "    g=f.derivada(x)\n",
        "    print(\"Derivada respecto de \"+x+\":\")\n",
        "    g.dibujar()"
      ],
      "execution_count": null,
      "outputs": []
    },
    {
      "cell_type": "code",
      "metadata": {
        "id": "3i6ixySCLXyU",
        "colab": {
          "base_uri": "https://localhost:8080/",
          "height": 308
        },
        "outputId": "e223d46e-344e-4ad3-c55d-39c4df283386"
      },
      "source": [
        "probar_derivada(\"x+1\",\"x\")"
      ],
      "execution_count": null,
      "outputs": [
        {
          "output_type": "stream",
          "text": [
            "Fórmula original:\n"
          ],
          "name": "stdout"
        },
        {
          "output_type": "display_data",
          "data": {
            "text/plain": [
              "<IPython.core.display.SVG object>"
            ],
            "image/svg+xml": "<svg height=\"87pt\" viewBox=\"0.00 0.00 111.20 87.20\" width=\"111pt\" xmlns=\"http://www.w3.org/2000/svg\" xmlns:xlink=\"http://www.w3.org/1999/xlink\">\n<g class=\"graph\" id=\"graph0\" transform=\"scale(1 1) rotate(0) translate(4 83.2)\">\n<title>Arbol</title>\n<polygon fill=\"#ffffff\" points=\"-4,4 -4,-83.2 107.2,-83.2 107.2,4 -4,4\" stroke=\"transparent\"/>\n<!-- node0 -->\n<g class=\"node\" id=\"node1\">\n<title>node0</title>\n<polygon fill=\"none\" points=\"36,-36 0,-36 0,0 36,0 36,-36\" stroke=\"#000000\"/>\n<text fill=\"#000000\" font-family=\"Times,serif\" font-size=\"14.00\" text-anchor=\"middle\" x=\"18\" y=\"-14.3\">x</text>\n</g>\n<!-- node2 -->\n<g class=\"node\" id=\"node2\">\n<title>node2</title>\n<ellipse cx=\"51.6\" cy=\"-61.2\" fill=\"none\" rx=\"18\" ry=\"18\" stroke=\"#000000\"/>\n<text fill=\"#000000\" font-family=\"Times,serif\" font-size=\"14.00\" text-anchor=\"middle\" x=\"51.6\" y=\"-57.5\">+</text>\n</g>\n<!-- node2&#45;&#45;node0 -->\n<g class=\"edge\" id=\"edge1\">\n<title>node2--node0</title>\n<path d=\"M40.2246,-46.5745C37.6354,-43.2455 34.8536,-39.6689 32.1642,-36.2111\" fill=\"none\" stroke=\"#000000\"/>\n</g>\n<!-- node1 -->\n<g class=\"node\" id=\"node3\">\n<title>node1</title>\n<polygon fill=\"none\" points=\"103.2,-36 67.2,-36 67.2,0 103.2,0 103.2,-36\" stroke=\"#000000\"/>\n<text fill=\"#000000\" font-family=\"Times,serif\" font-size=\"14.00\" text-anchor=\"middle\" x=\"85.2\" y=\"-14.3\">1</text>\n</g>\n<!-- node2&#45;&#45;node1 -->\n<g class=\"edge\" id=\"edge2\">\n<title>node2--node1</title>\n<path d=\"M62.9754,-46.5745C65.5646,-43.2455 68.3464,-39.6689 71.0358,-36.2111\" fill=\"none\" stroke=\"#000000\"/>\n</g>\n</g>\n</svg>"
          },
          "metadata": {
            "tags": []
          }
        },
        {
          "output_type": "stream",
          "text": [
            "<__main__.Arbol object at 0x7fe42bab10d0>\n",
            "Derivada respecto de x:\n"
          ],
          "name": "stdout"
        },
        {
          "output_type": "display_data",
          "data": {
            "text/plain": [
              "<IPython.core.display.SVG object>"
            ],
            "image/svg+xml": "<svg height=\"87pt\" viewBox=\"0.00 0.00 111.20 87.20\" width=\"111pt\" xmlns=\"http://www.w3.org/2000/svg\" xmlns:xlink=\"http://www.w3.org/1999/xlink\">\n<g class=\"graph\" id=\"graph0\" transform=\"scale(1 1) rotate(0) translate(4 83.2)\">\n<title>Arbol</title>\n<polygon fill=\"#ffffff\" points=\"-4,4 -4,-83.2 107.2,-83.2 107.2,4 -4,4\" stroke=\"transparent\"/>\n<!-- node0 -->\n<g class=\"node\" id=\"node1\">\n<title>node0</title>\n<polygon fill=\"none\" points=\"36,-36 0,-36 0,0 36,0 36,-36\" stroke=\"#000000\"/>\n<text fill=\"#000000\" font-family=\"Times,serif\" font-size=\"14.00\" text-anchor=\"middle\" x=\"18\" y=\"-14.3\">1</text>\n</g>\n<!-- node2 -->\n<g class=\"node\" id=\"node2\">\n<title>node2</title>\n<ellipse cx=\"51.6\" cy=\"-61.2\" fill=\"none\" rx=\"18\" ry=\"18\" stroke=\"#000000\"/>\n<text fill=\"#000000\" font-family=\"Times,serif\" font-size=\"14.00\" text-anchor=\"middle\" x=\"51.6\" y=\"-57.5\">+</text>\n</g>\n<!-- node2&#45;&#45;node0 -->\n<g class=\"edge\" id=\"edge1\">\n<title>node2--node0</title>\n<path d=\"M40.2246,-46.5745C37.6354,-43.2455 34.8536,-39.6689 32.1642,-36.2111\" fill=\"none\" stroke=\"#000000\"/>\n</g>\n<!-- node1 -->\n<g class=\"node\" id=\"node3\">\n<title>node1</title>\n<polygon fill=\"none\" points=\"103.2,-36 67.2,-36 67.2,0 103.2,0 103.2,-36\" stroke=\"#000000\"/>\n<text fill=\"#000000\" font-family=\"Times,serif\" font-size=\"14.00\" text-anchor=\"middle\" x=\"85.2\" y=\"-14.3\">0</text>\n</g>\n<!-- node2&#45;&#45;node1 -->\n<g class=\"edge\" id=\"edge2\">\n<title>node2--node1</title>\n<path d=\"M62.9754,-46.5745C65.5646,-43.2455 68.3464,-39.6689 71.0358,-36.2111\" fill=\"none\" stroke=\"#000000\"/>\n</g>\n</g>\n</svg>"
          },
          "metadata": {
            "tags": []
          }
        }
      ]
    },
    {
      "cell_type": "code",
      "metadata": {
        "id": "1nxb1RE3LZQl",
        "colab": {
          "base_uri": "https://localhost:8080/",
          "height": 655
        },
        "outputId": "b9b3352d-8386-4760-855f-38ac0886e43a"
      },
      "source": [
        "probar_derivada(\"(2*x)^2+a\",\"x\")"
      ],
      "execution_count": null,
      "outputs": [
        {
          "output_type": "stream",
          "text": [
            "Fórmula original:\n"
          ],
          "name": "stdout"
        },
        {
          "output_type": "display_data",
          "data": {
            "text/plain": [
              "<IPython.core.display.SVG object>"
            ],
            "image/svg+xml": "<svg height=\"174pt\" viewBox=\"0.00 0.00 245.60 173.60\" width=\"246pt\" xmlns=\"http://www.w3.org/2000/svg\" xmlns:xlink=\"http://www.w3.org/1999/xlink\">\n<g class=\"graph\" id=\"graph0\" transform=\"scale(1 1) rotate(0) translate(4 169.6)\">\n<title>Arbol</title>\n<polygon fill=\"#ffffff\" points=\"-4,4 -4,-169.6 241.6,-169.6 241.6,4 -4,4\" stroke=\"transparent\"/>\n<!-- node0 -->\n<g class=\"node\" id=\"node1\">\n<title>node0</title>\n<polygon fill=\"none\" points=\"36,-36 0,-36 0,0 36,0 36,-36\" stroke=\"#000000\"/>\n<text fill=\"#000000\" font-family=\"Times,serif\" font-size=\"14.00\" text-anchor=\"middle\" x=\"18\" y=\"-14.3\">2</text>\n</g>\n<!-- node2 -->\n<g class=\"node\" id=\"node2\">\n<title>node2</title>\n<ellipse cx=\"51.6\" cy=\"-61.2\" fill=\"none\" rx=\"18\" ry=\"18\" stroke=\"#000000\"/>\n<text fill=\"#000000\" font-family=\"Times,serif\" font-size=\"14.00\" text-anchor=\"middle\" x=\"51.6\" y=\"-57.5\">*</text>\n</g>\n<!-- node2&#45;&#45;node0 -->\n<g class=\"edge\" id=\"edge3\">\n<title>node2--node0</title>\n<path d=\"M40.2246,-46.5745C37.6354,-43.2455 34.8536,-39.6689 32.1642,-36.2111\" fill=\"none\" stroke=\"#000000\"/>\n</g>\n<!-- node1 -->\n<g class=\"node\" id=\"node3\">\n<title>node1</title>\n<polygon fill=\"none\" points=\"103.2,-36 67.2,-36 67.2,0 103.2,0 103.2,-36\" stroke=\"#000000\"/>\n<text fill=\"#000000\" font-family=\"Times,serif\" font-size=\"14.00\" text-anchor=\"middle\" x=\"85.2\" y=\"-14.3\">x</text>\n</g>\n<!-- node2&#45;&#45;node1 -->\n<g class=\"edge\" id=\"edge4\">\n<title>node2--node1</title>\n<path d=\"M62.9754,-46.5745C65.5646,-43.2455 68.3464,-39.6689 71.0358,-36.2111\" fill=\"none\" stroke=\"#000000\"/>\n</g>\n<!-- node4 -->\n<g class=\"node\" id=\"node4\">\n<title>node4</title>\n<ellipse cx=\"118.8\" cy=\"-104.4\" fill=\"none\" rx=\"18\" ry=\"18\" stroke=\"#000000\"/>\n<text fill=\"#000000\" font-family=\"Times,serif\" font-size=\"14.00\" text-anchor=\"middle\" x=\"118.8\" y=\"-100.7\">^</text>\n</g>\n<!-- node4&#45;&#45;node2 -->\n<g class=\"edge\" id=\"edge2\">\n<title>node4--node2</title>\n<path d=\"M103.5513,-94.5973C92.5536,-87.5273 77.7722,-78.025 66.7884,-70.964\" fill=\"none\" stroke=\"#000000\"/>\n</g>\n<!-- node3 -->\n<g class=\"node\" id=\"node5\">\n<title>node3</title>\n<polygon fill=\"none\" points=\"170.4,-79.2 134.4,-79.2 134.4,-43.2 170.4,-43.2 170.4,-79.2\" stroke=\"#000000\"/>\n<text fill=\"#000000\" font-family=\"Times,serif\" font-size=\"14.00\" text-anchor=\"middle\" x=\"152.4\" y=\"-57.5\">2</text>\n</g>\n<!-- node4&#45;&#45;node3 -->\n<g class=\"edge\" id=\"edge5\">\n<title>node4--node3</title>\n<path d=\"M130.1754,-89.7745C132.7646,-86.4455 135.5464,-82.8689 138.2358,-79.4111\" fill=\"none\" stroke=\"#000000\"/>\n</g>\n<!-- node6 -->\n<g class=\"node\" id=\"node6\">\n<title>node6</title>\n<ellipse cx=\"186\" cy=\"-147.6\" fill=\"none\" rx=\"18\" ry=\"18\" stroke=\"#000000\"/>\n<text fill=\"#000000\" font-family=\"Times,serif\" font-size=\"14.00\" text-anchor=\"middle\" x=\"186\" y=\"-143.9\">+</text>\n</g>\n<!-- node6&#45;&#45;node4 -->\n<g class=\"edge\" id=\"edge1\">\n<title>node6--node4</title>\n<path d=\"M170.7513,-137.7973C159.7536,-130.7273 144.9722,-121.225 133.9884,-114.164\" fill=\"none\" stroke=\"#000000\"/>\n</g>\n<!-- node5 -->\n<g class=\"node\" id=\"node7\">\n<title>node5</title>\n<polygon fill=\"none\" points=\"237.6,-122.4 201.6,-122.4 201.6,-86.4 237.6,-86.4 237.6,-122.4\" stroke=\"#000000\"/>\n<text fill=\"#000000\" font-family=\"Times,serif\" font-size=\"14.00\" text-anchor=\"middle\" x=\"219.6\" y=\"-100.7\">a</text>\n</g>\n<!-- node6&#45;&#45;node5 -->\n<g class=\"edge\" id=\"edge6\">\n<title>node6--node5</title>\n<path d=\"M197.3754,-132.9745C199.9646,-129.6455 202.7464,-126.0689 205.4358,-122.6111\" fill=\"none\" stroke=\"#000000\"/>\n</g>\n</g>\n</svg>"
          },
          "metadata": {
            "tags": []
          }
        },
        {
          "output_type": "stream",
          "text": [
            "<__main__.Arbol object at 0x7f90f7695d10>\n",
            "Derivada respecto de x:\n"
          ],
          "name": "stdout"
        },
        {
          "output_type": "display_data",
          "data": {
            "text/plain": [
              "<IPython.core.display.SVG object>"
            ],
            "image/svg+xml": "<svg height=\"260pt\" viewBox=\"0.00 0.00 648.80 260.00\" width=\"649pt\" xmlns=\"http://www.w3.org/2000/svg\" xmlns:xlink=\"http://www.w3.org/1999/xlink\">\n<g class=\"graph\" id=\"graph0\" transform=\"scale(1 1) rotate(0) translate(4 256)\">\n<title>Arbol</title>\n<polygon fill=\"#ffffff\" points=\"-4,4 -4,-256 644.8,-256 644.8,4 -4,4\" stroke=\"transparent\"/>\n<!-- node0 -->\n<g class=\"node\" id=\"node1\">\n<title>node0</title>\n<polygon fill=\"none\" points=\"36,-79.2 0,-79.2 0,-43.2 36,-43.2 36,-79.2\" stroke=\"#000000\"/>\n<text fill=\"#000000\" font-family=\"Times,serif\" font-size=\"14.00\" text-anchor=\"middle\" x=\"18\" y=\"-57.5\">2</text>\n</g>\n<!-- node4 -->\n<g class=\"node\" id=\"node2\">\n<title>node4</title>\n<ellipse cx=\"51.6\" cy=\"-104.4\" fill=\"none\" rx=\"18\" ry=\"18\" stroke=\"#000000\"/>\n<text fill=\"#000000\" font-family=\"Times,serif\" font-size=\"14.00\" text-anchor=\"middle\" x=\"51.6\" y=\"-100.7\">*</text>\n</g>\n<!-- node4&#45;&#45;node0 -->\n<g class=\"edge\" id=\"edge4\">\n<title>node4--node0</title>\n<path d=\"M40.2246,-89.7744C37.6354,-86.4455 34.8536,-82.8689 32.1642,-79.4111\" fill=\"none\" stroke=\"#000000\"/>\n</g>\n<!-- node3 -->\n<g class=\"node\" id=\"node4\">\n<title>node3</title>\n<ellipse cx=\"118.8\" cy=\"-61.2\" fill=\"none\" rx=\"18\" ry=\"18\" stroke=\"#000000\"/>\n<text fill=\"#000000\" font-family=\"Times,serif\" font-size=\"14.00\" text-anchor=\"middle\" x=\"118.8\" y=\"-57.5\">*</text>\n</g>\n<!-- node4&#45;&#45;node3 -->\n<g class=\"edge\" id=\"edge5\">\n<title>node4--node3</title>\n<path d=\"M66.8487,-94.5972C77.8464,-87.5273 92.6278,-78.025 103.6116,-70.964\" fill=\"none\" stroke=\"#000000\"/>\n</g>\n<!-- node1 -->\n<g class=\"node\" id=\"node3\">\n<title>node1</title>\n<polygon fill=\"none\" points=\"103.2,-36 67.2,-36 67.2,0 103.2,0 103.2,-36\" stroke=\"#000000\"/>\n<text fill=\"#000000\" font-family=\"Times,serif\" font-size=\"14.00\" text-anchor=\"middle\" x=\"85.2\" y=\"-14.3\">2</text>\n</g>\n<!-- node3&#45;&#45;node1 -->\n<g class=\"edge\" id=\"edge6\">\n<title>node3--node1</title>\n<path d=\"M107.4246,-46.5744C104.8354,-43.2455 102.0536,-39.6689 99.3642,-36.2111\" fill=\"none\" stroke=\"#000000\"/>\n</g>\n<!-- node2 -->\n<g class=\"node\" id=\"node5\">\n<title>node2</title>\n<polygon fill=\"none\" points=\"170.4,-36 134.4,-36 134.4,0 170.4,0 170.4,-36\" stroke=\"#000000\"/>\n<text fill=\"#000000\" font-family=\"Times,serif\" font-size=\"14.00\" text-anchor=\"middle\" x=\"152.4\" y=\"-14.3\">x</text>\n</g>\n<!-- node3&#45;&#45;node2 -->\n<g class=\"edge\" id=\"edge7\">\n<title>node3--node2</title>\n<path d=\"M130.1754,-46.5744C132.7646,-43.2455 135.5464,-39.6689 138.2358,-36.2111\" fill=\"none\" stroke=\"#000000\"/>\n</g>\n<!-- node8 -->\n<g class=\"node\" id=\"node6\">\n<title>node8</title>\n<ellipse cx=\"186\" cy=\"-147.6\" fill=\"none\" rx=\"18\" ry=\"18\" stroke=\"#000000\"/>\n<text fill=\"#000000\" font-family=\"Times,serif\" font-size=\"14.00\" text-anchor=\"middle\" x=\"186\" y=\"-143.9\">^</text>\n</g>\n<!-- node8&#45;&#45;node4 -->\n<g class=\"edge\" id=\"edge3\">\n<title>node8--node4</title>\n<path d=\"M168.7047,-142.0408C142.8981,-133.7458 94.5968,-118.2204 68.8289,-109.9379\" fill=\"none\" stroke=\"#000000\"/>\n</g>\n<!-- node7 -->\n<g class=\"node\" id=\"node8\">\n<title>node7</title>\n<ellipse cx=\"253.2\" cy=\"-104.4\" fill=\"none\" rx=\"18\" ry=\"18\" stroke=\"#000000\"/>\n<text fill=\"#000000\" font-family=\"Times,serif\" font-size=\"14.00\" text-anchor=\"middle\" x=\"253.2\" y=\"-100.7\">-</text>\n</g>\n<!-- node8&#45;&#45;node7 -->\n<g class=\"edge\" id=\"edge8\">\n<title>node8--node7</title>\n<path d=\"M201.2487,-137.7972C212.2464,-130.7273 227.0278,-121.225 238.0116,-114.164\" fill=\"none\" stroke=\"#000000\"/>\n</g>\n<!-- node5 -->\n<g class=\"node\" id=\"node7\">\n<title>node5</title>\n<polygon fill=\"none\" points=\"237.6,-79.2 201.6,-79.2 201.6,-43.2 237.6,-43.2 237.6,-79.2\" stroke=\"#000000\"/>\n<text fill=\"#000000\" font-family=\"Times,serif\" font-size=\"14.00\" text-anchor=\"middle\" x=\"219.6\" y=\"-57.5\">2</text>\n</g>\n<!-- node7&#45;&#45;node5 -->\n<g class=\"edge\" id=\"edge9\">\n<title>node7--node5</title>\n<path d=\"M241.8246,-89.7744C239.2353,-86.4455 236.4536,-82.8689 233.7642,-79.4111\" fill=\"none\" stroke=\"#000000\"/>\n</g>\n<!-- node6 -->\n<g class=\"node\" id=\"node9\">\n<title>node6</title>\n<polygon fill=\"none\" points=\"304.8,-79.2 268.8,-79.2 268.8,-43.2 304.8,-43.2 304.8,-79.2\" stroke=\"#000000\"/>\n<text fill=\"#000000\" font-family=\"Times,serif\" font-size=\"14.00\" text-anchor=\"middle\" x=\"286.8\" y=\"-57.5\">1</text>\n</g>\n<!-- node7&#45;&#45;node6 -->\n<g class=\"edge\" id=\"edge10\">\n<title>node7--node6</title>\n<path d=\"M264.5754,-89.7744C267.1646,-86.4455 269.9464,-82.8689 272.6358,-79.4111\" fill=\"none\" stroke=\"#000000\"/>\n</g>\n<!-- node16 -->\n<g class=\"node\" id=\"node10\">\n<title>node16</title>\n<ellipse cx=\"320.4\" cy=\"-190.8\" fill=\"none\" rx=\"18\" ry=\"18\" stroke=\"#000000\"/>\n<text fill=\"#000000\" font-family=\"Times,serif\" font-size=\"14.00\" text-anchor=\"middle\" x=\"320.4\" y=\"-187.1\">*</text>\n</g>\n<!-- node16&#45;&#45;node8 -->\n<g class=\"edge\" id=\"edge2\">\n<title>node16--node8</title>\n<path d=\"M303.1047,-185.2408C277.2981,-176.9458 228.9968,-161.4204 203.2289,-153.1379\" fill=\"none\" stroke=\"#000000\"/>\n</g>\n<!-- node15 -->\n<g class=\"node\" id=\"node14\">\n<title>node15</title>\n<ellipse cx=\"454.8\" cy=\"-147.6\" fill=\"none\" rx=\"18\" ry=\"18\" stroke=\"#000000\"/>\n<text fill=\"#000000\" font-family=\"Times,serif\" font-size=\"14.00\" text-anchor=\"middle\" x=\"454.8\" y=\"-143.9\">+</text>\n</g>\n<!-- node16&#45;&#45;node15 -->\n<g class=\"edge\" id=\"edge11\">\n<title>node16--node15</title>\n<path d=\"M337.6953,-185.2408C363.5018,-176.9458 411.8032,-161.4204 437.5711,-153.1379\" fill=\"none\" stroke=\"#000000\"/>\n</g>\n<!-- node9 -->\n<g class=\"node\" id=\"node11\">\n<title>node9</title>\n<polygon fill=\"none\" points=\"372,-79.2 336,-79.2 336,-43.2 372,-43.2 372,-79.2\" stroke=\"#000000\"/>\n<text fill=\"#000000\" font-family=\"Times,serif\" font-size=\"14.00\" text-anchor=\"middle\" x=\"354\" y=\"-57.5\">0</text>\n</g>\n<!-- node11 -->\n<g class=\"node\" id=\"node12\">\n<title>node11</title>\n<ellipse cx=\"387.6\" cy=\"-104.4\" fill=\"none\" rx=\"18\" ry=\"18\" stroke=\"#000000\"/>\n<text fill=\"#000000\" font-family=\"Times,serif\" font-size=\"14.00\" text-anchor=\"middle\" x=\"387.6\" y=\"-100.7\">*</text>\n</g>\n<!-- node11&#45;&#45;node9 -->\n<g class=\"edge\" id=\"edge13\">\n<title>node11--node9</title>\n<path d=\"M376.2246,-89.7744C373.6353,-86.4455 370.8536,-82.8689 368.1642,-79.4111\" fill=\"none\" stroke=\"#000000\"/>\n</g>\n<!-- node10 -->\n<g class=\"node\" id=\"node13\">\n<title>node10</title>\n<polygon fill=\"none\" points=\"439.2,-79.2 403.2,-79.2 403.2,-43.2 439.2,-43.2 439.2,-79.2\" stroke=\"#000000\"/>\n<text fill=\"#000000\" font-family=\"Times,serif\" font-size=\"14.00\" text-anchor=\"middle\" x=\"421.2\" y=\"-57.5\">x</text>\n</g>\n<!-- node11&#45;&#45;node10 -->\n<g class=\"edge\" id=\"edge14\">\n<title>node11--node10</title>\n<path d=\"M398.9754,-89.7744C401.5646,-86.4455 404.3464,-82.8689 407.0358,-79.4111\" fill=\"none\" stroke=\"#000000\"/>\n</g>\n<!-- node15&#45;&#45;node11 -->\n<g class=\"edge\" id=\"edge12\">\n<title>node15--node11</title>\n<path d=\"M439.5513,-137.7972C428.5536,-130.7273 413.7722,-121.225 402.7884,-114.164\" fill=\"none\" stroke=\"#000000\"/>\n</g>\n<!-- node14 -->\n<g class=\"node\" id=\"node16\">\n<title>node14</title>\n<ellipse cx=\"522\" cy=\"-104.4\" fill=\"none\" rx=\"18\" ry=\"18\" stroke=\"#000000\"/>\n<text fill=\"#000000\" font-family=\"Times,serif\" font-size=\"14.00\" text-anchor=\"middle\" x=\"522\" y=\"-100.7\">*</text>\n</g>\n<!-- node15&#45;&#45;node14 -->\n<g class=\"edge\" id=\"edge15\">\n<title>node15--node14</title>\n<path d=\"M470.0487,-137.7972C481.0464,-130.7273 495.8278,-121.225 506.8116,-114.164\" fill=\"none\" stroke=\"#000000\"/>\n</g>\n<!-- node12 -->\n<g class=\"node\" id=\"node15\">\n<title>node12</title>\n<polygon fill=\"none\" points=\"506.4,-79.2 470.4,-79.2 470.4,-43.2 506.4,-43.2 506.4,-79.2\" stroke=\"#000000\"/>\n<text fill=\"#000000\" font-family=\"Times,serif\" font-size=\"14.00\" text-anchor=\"middle\" x=\"488.4\" y=\"-57.5\">1</text>\n</g>\n<!-- node14&#45;&#45;node12 -->\n<g class=\"edge\" id=\"edge16\">\n<title>node14--node12</title>\n<path d=\"M510.6246,-89.7744C508.0353,-86.4455 505.2536,-82.8689 502.5642,-79.4111\" fill=\"none\" stroke=\"#000000\"/>\n</g>\n<!-- node13 -->\n<g class=\"node\" id=\"node17\">\n<title>node13</title>\n<polygon fill=\"none\" points=\"573.6,-79.2 537.6,-79.2 537.6,-43.2 573.6,-43.2 573.6,-79.2\" stroke=\"#000000\"/>\n<text fill=\"#000000\" font-family=\"Times,serif\" font-size=\"14.00\" text-anchor=\"middle\" x=\"555.6\" y=\"-57.5\">2</text>\n</g>\n<!-- node14&#45;&#45;node13 -->\n<g class=\"edge\" id=\"edge17\">\n<title>node14--node13</title>\n<path d=\"M533.3754,-89.7744C535.9646,-86.4455 538.7464,-82.8689 541.4358,-79.4111\" fill=\"none\" stroke=\"#000000\"/>\n</g>\n<!-- node18 -->\n<g class=\"node\" id=\"node18\">\n<title>node18</title>\n<ellipse cx=\"589.2\" cy=\"-234\" fill=\"none\" rx=\"18\" ry=\"18\" stroke=\"#000000\"/>\n<text fill=\"#000000\" font-family=\"Times,serif\" font-size=\"14.00\" text-anchor=\"middle\" x=\"589.2\" y=\"-230.3\">+</text>\n</g>\n<!-- node18&#45;&#45;node16 -->\n<g class=\"edge\" id=\"edge1\">\n<title>node18--node16</title>\n<path d=\"M571.1459,-231.0984C522.1779,-223.2286 387.2514,-201.544 338.3755,-193.6889\" fill=\"none\" stroke=\"#000000\"/>\n</g>\n<!-- node17 -->\n<g class=\"node\" id=\"node19\">\n<title>node17</title>\n<polygon fill=\"none\" points=\"640.8,-208.8 604.8,-208.8 604.8,-172.8 640.8,-172.8 640.8,-208.8\" stroke=\"#000000\"/>\n<text fill=\"#000000\" font-family=\"Times,serif\" font-size=\"14.00\" text-anchor=\"middle\" x=\"622.8\" y=\"-187.1\">0</text>\n</g>\n<!-- node18&#45;&#45;node17 -->\n<g class=\"edge\" id=\"edge18\">\n<title>node18--node17</title>\n<path d=\"M600.5754,-219.3745C603.1646,-216.0455 605.9464,-212.4689 608.6358,-209.0111\" fill=\"none\" stroke=\"#000000\"/>\n</g>\n</g>\n</svg>"
          },
          "metadata": {
            "tags": []
          }
        }
      ]
    },
    {
      "cell_type": "code",
      "metadata": {
        "id": "sct6iOEFLbcc",
        "colab": {
          "base_uri": "https://localhost:8080/",
          "height": 539
        },
        "outputId": "99f1ffb0-081c-4aef-e58d-7ceebf96246b"
      },
      "source": [
        "probar_derivada(\"(1+y)/(1-y)\",\"y\")"
      ],
      "execution_count": null,
      "outputs": [
        {
          "output_type": "stream",
          "text": [
            "Fórmula original:\n"
          ],
          "name": "stdout"
        },
        {
          "output_type": "display_data",
          "data": {
            "text/plain": [
              "<IPython.core.display.SVG object>"
            ],
            "image/svg+xml": "<svg height=\"130pt\" viewBox=\"0.00 0.00 245.60 130.40\" width=\"246pt\" xmlns=\"http://www.w3.org/2000/svg\" xmlns:xlink=\"http://www.w3.org/1999/xlink\">\n<g class=\"graph\" id=\"graph0\" transform=\"scale(1 1) rotate(0) translate(4 126.4)\">\n<title>Arbol</title>\n<polygon fill=\"#ffffff\" points=\"-4,4 -4,-126.4 241.6,-126.4 241.6,4 -4,4\" stroke=\"transparent\"/>\n<!-- node0 -->\n<g class=\"node\" id=\"node1\">\n<title>node0</title>\n<polygon fill=\"none\" points=\"36,-36 0,-36 0,0 36,0 36,-36\" stroke=\"#000000\"/>\n<text fill=\"#000000\" font-family=\"Times,serif\" font-size=\"14.00\" text-anchor=\"middle\" x=\"18\" y=\"-14.3\">1</text>\n</g>\n<!-- node2 -->\n<g class=\"node\" id=\"node2\">\n<title>node2</title>\n<ellipse cx=\"51.6\" cy=\"-61.2\" fill=\"none\" rx=\"18\" ry=\"18\" stroke=\"#000000\"/>\n<text fill=\"#000000\" font-family=\"Times,serif\" font-size=\"14.00\" text-anchor=\"middle\" x=\"51.6\" y=\"-57.5\">+</text>\n</g>\n<!-- node2&#45;&#45;node0 -->\n<g class=\"edge\" id=\"edge2\">\n<title>node2--node0</title>\n<path d=\"M40.2246,-46.5745C37.6354,-43.2455 34.8536,-39.6689 32.1642,-36.2111\" fill=\"none\" stroke=\"#000000\"/>\n</g>\n<!-- node1 -->\n<g class=\"node\" id=\"node3\">\n<title>node1</title>\n<polygon fill=\"none\" points=\"103.2,-36 67.2,-36 67.2,0 103.2,0 103.2,-36\" stroke=\"#000000\"/>\n<text fill=\"#000000\" font-family=\"Times,serif\" font-size=\"14.00\" text-anchor=\"middle\" x=\"85.2\" y=\"-14.3\">y</text>\n</g>\n<!-- node2&#45;&#45;node1 -->\n<g class=\"edge\" id=\"edge3\">\n<title>node2--node1</title>\n<path d=\"M62.9754,-46.5745C65.5646,-43.2455 68.3464,-39.6689 71.0358,-36.2111\" fill=\"none\" stroke=\"#000000\"/>\n</g>\n<!-- node6 -->\n<g class=\"node\" id=\"node4\">\n<title>node6</title>\n<ellipse cx=\"118.8\" cy=\"-104.4\" fill=\"none\" rx=\"18\" ry=\"18\" stroke=\"#000000\"/>\n<text fill=\"#000000\" font-family=\"Times,serif\" font-size=\"14.00\" text-anchor=\"middle\" x=\"118.8\" y=\"-100.7\">/</text>\n</g>\n<!-- node6&#45;&#45;node2 -->\n<g class=\"edge\" id=\"edge1\">\n<title>node6--node2</title>\n<path d=\"M103.5513,-94.5973C92.5536,-87.5273 77.7722,-78.025 66.7884,-70.964\" fill=\"none\" stroke=\"#000000\"/>\n</g>\n<!-- node5 -->\n<g class=\"node\" id=\"node6\">\n<title>node5</title>\n<ellipse cx=\"186\" cy=\"-61.2\" fill=\"none\" rx=\"18\" ry=\"18\" stroke=\"#000000\"/>\n<text fill=\"#000000\" font-family=\"Times,serif\" font-size=\"14.00\" text-anchor=\"middle\" x=\"186\" y=\"-57.5\">-</text>\n</g>\n<!-- node6&#45;&#45;node5 -->\n<g class=\"edge\" id=\"edge4\">\n<title>node6--node5</title>\n<path d=\"M134.0487,-94.5973C145.0464,-87.5273 159.8278,-78.025 170.8116,-70.964\" fill=\"none\" stroke=\"#000000\"/>\n</g>\n<!-- node3 -->\n<g class=\"node\" id=\"node5\">\n<title>node3</title>\n<polygon fill=\"none\" points=\"170.4,-36 134.4,-36 134.4,0 170.4,0 170.4,-36\" stroke=\"#000000\"/>\n<text fill=\"#000000\" font-family=\"Times,serif\" font-size=\"14.00\" text-anchor=\"middle\" x=\"152.4\" y=\"-14.3\">1</text>\n</g>\n<!-- node5&#45;&#45;node3 -->\n<g class=\"edge\" id=\"edge5\">\n<title>node5--node3</title>\n<path d=\"M174.6246,-46.5745C172.0354,-43.2455 169.2536,-39.6689 166.5642,-36.2111\" fill=\"none\" stroke=\"#000000\"/>\n</g>\n<!-- node4 -->\n<g class=\"node\" id=\"node7\">\n<title>node4</title>\n<polygon fill=\"none\" points=\"237.6,-36 201.6,-36 201.6,0 237.6,0 237.6,-36\" stroke=\"#000000\"/>\n<text fill=\"#000000\" font-family=\"Times,serif\" font-size=\"14.00\" text-anchor=\"middle\" x=\"219.6\" y=\"-14.3\">y</text>\n</g>\n<!-- node5&#45;&#45;node4 -->\n<g class=\"edge\" id=\"edge6\">\n<title>node5--node4</title>\n<path d=\"M197.3754,-46.5745C199.9646,-43.2455 202.7464,-39.6689 205.4358,-36.2111\" fill=\"none\" stroke=\"#000000\"/>\n</g>\n</g>\n</svg>"
          },
          "metadata": {
            "tags": []
          }
        },
        {
          "output_type": "stream",
          "text": [
            "<__main__.Arbol object at 0x7fe431e36690>\n",
            "Derivada respecto de y:\n"
          ],
          "name": "stdout"
        },
        {
          "output_type": "display_data",
          "data": {
            "text/plain": [
              "<IPython.core.display.SVG object>"
            ],
            "image/svg+xml": "<svg height=\"217pt\" viewBox=\"0.00 0.00 783.20 216.80\" width=\"783pt\" xmlns=\"http://www.w3.org/2000/svg\" xmlns:xlink=\"http://www.w3.org/1999/xlink\">\n<g class=\"graph\" id=\"graph0\" transform=\"scale(1 1) rotate(0) translate(4 212.8)\">\n<title>Arbol</title>\n<polygon fill=\"#ffffff\" points=\"-4,4 -4,-212.8 779.2,-212.8 779.2,4 -4,4\" stroke=\"transparent\"/>\n<!-- node0 -->\n<g class=\"node\" id=\"node1\">\n<title>node0</title>\n<polygon fill=\"none\" points=\"36,-36 0,-36 0,0 36,0 36,-36\" stroke=\"#000000\"/>\n<text fill=\"#000000\" font-family=\"Times,serif\" font-size=\"14.00\" text-anchor=\"middle\" x=\"18\" y=\"-14.3\">0</text>\n</g>\n<!-- node2 -->\n<g class=\"node\" id=\"node2\">\n<title>node2</title>\n<ellipse cx=\"51.6\" cy=\"-61.2\" fill=\"none\" rx=\"18\" ry=\"18\" stroke=\"#000000\"/>\n<text fill=\"#000000\" font-family=\"Times,serif\" font-size=\"14.00\" text-anchor=\"middle\" x=\"51.6\" y=\"-57.5\">+</text>\n</g>\n<!-- node2&#45;&#45;node0 -->\n<g class=\"edge\" id=\"edge4\">\n<title>node2--node0</title>\n<path d=\"M40.2246,-46.5745C37.6354,-43.2455 34.8536,-39.6689 32.1642,-36.2111\" fill=\"none\" stroke=\"#000000\"/>\n</g>\n<!-- node1 -->\n<g class=\"node\" id=\"node3\">\n<title>node1</title>\n<polygon fill=\"none\" points=\"103.2,-36 67.2,-36 67.2,0 103.2,0 103.2,-36\" stroke=\"#000000\"/>\n<text fill=\"#000000\" font-family=\"Times,serif\" font-size=\"14.00\" text-anchor=\"middle\" x=\"85.2\" y=\"-14.3\">1</text>\n</g>\n<!-- node2&#45;&#45;node1 -->\n<g class=\"edge\" id=\"edge5\">\n<title>node2--node1</title>\n<path d=\"M62.9754,-46.5745C65.5646,-43.2455 68.3464,-39.6689 71.0358,-36.2111\" fill=\"none\" stroke=\"#000000\"/>\n</g>\n<!-- node6 -->\n<g class=\"node\" id=\"node4\">\n<title>node6</title>\n<ellipse cx=\"118.8\" cy=\"-104.4\" fill=\"none\" rx=\"18\" ry=\"18\" stroke=\"#000000\"/>\n<text fill=\"#000000\" font-family=\"Times,serif\" font-size=\"14.00\" text-anchor=\"middle\" x=\"118.8\" y=\"-100.7\">*</text>\n</g>\n<!-- node6&#45;&#45;node2 -->\n<g class=\"edge\" id=\"edge3\">\n<title>node6--node2</title>\n<path d=\"M103.5513,-94.5973C92.5536,-87.5273 77.7722,-78.025 66.7884,-70.964\" fill=\"none\" stroke=\"#000000\"/>\n</g>\n<!-- node5 -->\n<g class=\"node\" id=\"node6\">\n<title>node5</title>\n<ellipse cx=\"186\" cy=\"-61.2\" fill=\"none\" rx=\"18\" ry=\"18\" stroke=\"#000000\"/>\n<text fill=\"#000000\" font-family=\"Times,serif\" font-size=\"14.00\" text-anchor=\"middle\" x=\"186\" y=\"-57.5\">-</text>\n</g>\n<!-- node6&#45;&#45;node5 -->\n<g class=\"edge\" id=\"edge6\">\n<title>node6--node5</title>\n<path d=\"M134.0487,-94.5973C145.0464,-87.5273 159.8278,-78.025 170.8116,-70.964\" fill=\"none\" stroke=\"#000000\"/>\n</g>\n<!-- node3 -->\n<g class=\"node\" id=\"node5\">\n<title>node3</title>\n<polygon fill=\"none\" points=\"170.4,-36 134.4,-36 134.4,0 170.4,0 170.4,-36\" stroke=\"#000000\"/>\n<text fill=\"#000000\" font-family=\"Times,serif\" font-size=\"14.00\" text-anchor=\"middle\" x=\"152.4\" y=\"-14.3\">1</text>\n</g>\n<!-- node5&#45;&#45;node3 -->\n<g class=\"edge\" id=\"edge7\">\n<title>node5--node3</title>\n<path d=\"M174.6246,-46.5745C172.0354,-43.2455 169.2536,-39.6689 166.5642,-36.2111\" fill=\"none\" stroke=\"#000000\"/>\n</g>\n<!-- node4 -->\n<g class=\"node\" id=\"node7\">\n<title>node4</title>\n<polygon fill=\"none\" points=\"237.6,-36 201.6,-36 201.6,0 237.6,0 237.6,-36\" stroke=\"#000000\"/>\n<text fill=\"#000000\" font-family=\"Times,serif\" font-size=\"14.00\" text-anchor=\"middle\" x=\"219.6\" y=\"-14.3\">y</text>\n</g>\n<!-- node5&#45;&#45;node4 -->\n<g class=\"edge\" id=\"edge8\">\n<title>node5--node4</title>\n<path d=\"M197.3754,-46.5745C199.9646,-43.2455 202.7464,-39.6689 205.4358,-36.2111\" fill=\"none\" stroke=\"#000000\"/>\n</g>\n<!-- node14 -->\n<g class=\"node\" id=\"node8\">\n<title>node14</title>\n<ellipse cx=\"253.2\" cy=\"-147.6\" fill=\"none\" rx=\"18\" ry=\"18\" stroke=\"#000000\"/>\n<text fill=\"#000000\" font-family=\"Times,serif\" font-size=\"14.00\" text-anchor=\"middle\" x=\"253.2\" y=\"-143.9\">-</text>\n</g>\n<!-- node14&#45;&#45;node6 -->\n<g class=\"edge\" id=\"edge2\">\n<title>node14--node6</title>\n<path d=\"M235.9047,-142.0408C210.0982,-133.7458 161.7968,-118.2204 136.0289,-109.9379\" fill=\"none\" stroke=\"#000000\"/>\n</g>\n<!-- node13 -->\n<g class=\"node\" id=\"node12\">\n<title>node13</title>\n<ellipse cx=\"387.6\" cy=\"-104.4\" fill=\"none\" rx=\"18\" ry=\"18\" stroke=\"#000000\"/>\n<text fill=\"#000000\" font-family=\"Times,serif\" font-size=\"14.00\" text-anchor=\"middle\" x=\"387.6\" y=\"-100.7\">*</text>\n</g>\n<!-- node14&#45;&#45;node13 -->\n<g class=\"edge\" id=\"edge9\">\n<title>node14--node13</title>\n<path d=\"M270.4953,-142.0408C296.3018,-133.7458 344.6032,-118.2204 370.3711,-109.9379\" fill=\"none\" stroke=\"#000000\"/>\n</g>\n<!-- node7 -->\n<g class=\"node\" id=\"node9\">\n<title>node7</title>\n<polygon fill=\"none\" points=\"304.8,-36 268.8,-36 268.8,0 304.8,0 304.8,-36\" stroke=\"#000000\"/>\n<text fill=\"#000000\" font-family=\"Times,serif\" font-size=\"14.00\" text-anchor=\"middle\" x=\"286.8\" y=\"-14.3\">0</text>\n</g>\n<!-- node9 -->\n<g class=\"node\" id=\"node10\">\n<title>node9</title>\n<ellipse cx=\"320.4\" cy=\"-61.2\" fill=\"none\" rx=\"18\" ry=\"18\" stroke=\"#000000\"/>\n<text fill=\"#000000\" font-family=\"Times,serif\" font-size=\"14.00\" text-anchor=\"middle\" x=\"320.4\" y=\"-57.5\">-</text>\n</g>\n<!-- node9&#45;&#45;node7 -->\n<g class=\"edge\" id=\"edge11\">\n<title>node9--node7</title>\n<path d=\"M309.0246,-46.5745C306.4354,-43.2455 303.6536,-39.6689 300.9642,-36.2111\" fill=\"none\" stroke=\"#000000\"/>\n</g>\n<!-- node8 -->\n<g class=\"node\" id=\"node11\">\n<title>node8</title>\n<polygon fill=\"none\" points=\"372,-36 336,-36 336,0 372,0 372,-36\" stroke=\"#000000\"/>\n<text fill=\"#000000\" font-family=\"Times,serif\" font-size=\"14.00\" text-anchor=\"middle\" x=\"354\" y=\"-14.3\">1</text>\n</g>\n<!-- node9&#45;&#45;node8 -->\n<g class=\"edge\" id=\"edge12\">\n<title>node9--node8</title>\n<path d=\"M331.7754,-46.5745C334.3646,-43.2455 337.1464,-39.6689 339.8358,-36.2111\" fill=\"none\" stroke=\"#000000\"/>\n</g>\n<!-- node13&#45;&#45;node9 -->\n<g class=\"edge\" id=\"edge10\">\n<title>node13--node9</title>\n<path d=\"M372.3513,-94.5973C361.3536,-87.5273 346.5722,-78.025 335.5884,-70.964\" fill=\"none\" stroke=\"#000000\"/>\n</g>\n<!-- node12 -->\n<g class=\"node\" id=\"node14\">\n<title>node12</title>\n<ellipse cx=\"454.8\" cy=\"-61.2\" fill=\"none\" rx=\"18\" ry=\"18\" stroke=\"#000000\"/>\n<text fill=\"#000000\" font-family=\"Times,serif\" font-size=\"14.00\" text-anchor=\"middle\" x=\"454.8\" y=\"-57.5\">+</text>\n</g>\n<!-- node13&#45;&#45;node12 -->\n<g class=\"edge\" id=\"edge13\">\n<title>node13--node12</title>\n<path d=\"M402.8487,-94.5973C413.8464,-87.5273 428.6278,-78.025 439.6116,-70.964\" fill=\"none\" stroke=\"#000000\"/>\n</g>\n<!-- node10 -->\n<g class=\"node\" id=\"node13\">\n<title>node10</title>\n<polygon fill=\"none\" points=\"439.2,-36 403.2,-36 403.2,0 439.2,0 439.2,-36\" stroke=\"#000000\"/>\n<text fill=\"#000000\" font-family=\"Times,serif\" font-size=\"14.00\" text-anchor=\"middle\" x=\"421.2\" y=\"-14.3\">1</text>\n</g>\n<!-- node12&#45;&#45;node10 -->\n<g class=\"edge\" id=\"edge14\">\n<title>node12--node10</title>\n<path d=\"M443.4246,-46.5745C440.8354,-43.2455 438.0536,-39.6689 435.3642,-36.2111\" fill=\"none\" stroke=\"#000000\"/>\n</g>\n<!-- node11 -->\n<g class=\"node\" id=\"node15\">\n<title>node11</title>\n<polygon fill=\"none\" points=\"506.4,-36 470.4,-36 470.4,0 506.4,0 506.4,-36\" stroke=\"#000000\"/>\n<text fill=\"#000000\" font-family=\"Times,serif\" font-size=\"14.00\" text-anchor=\"middle\" x=\"488.4\" y=\"-14.3\">y</text>\n</g>\n<!-- node12&#45;&#45;node11 -->\n<g class=\"edge\" id=\"edge15\">\n<title>node12--node11</title>\n<path d=\"M466.1754,-46.5745C468.7646,-43.2455 471.5464,-39.6689 474.2358,-36.2111\" fill=\"none\" stroke=\"#000000\"/>\n</g>\n<!-- node22 -->\n<g class=\"node\" id=\"node16\">\n<title>node22</title>\n<ellipse cx=\"522\" cy=\"-190.8\" fill=\"none\" rx=\"18\" ry=\"18\" stroke=\"#000000\"/>\n<text fill=\"#000000\" font-family=\"Times,serif\" font-size=\"14.00\" text-anchor=\"middle\" x=\"522\" y=\"-187.1\">/</text>\n</g>\n<!-- node22&#45;&#45;node14 -->\n<g class=\"edge\" id=\"edge1\">\n<title>node22--node14</title>\n<path d=\"M503.9459,-187.8984C454.9779,-180.0286 320.0514,-158.344 271.1755,-150.4889\" fill=\"none\" stroke=\"#000000\"/>\n</g>\n<!-- node21 -->\n<g class=\"node\" id=\"node20\">\n<title>node21</title>\n<ellipse cx=\"656.4\" cy=\"-147.6\" fill=\"none\" rx=\"18\" ry=\"18\" stroke=\"#000000\"/>\n<text fill=\"#000000\" font-family=\"Times,serif\" font-size=\"14.00\" text-anchor=\"middle\" x=\"656.4\" y=\"-143.9\">*</text>\n</g>\n<!-- node22&#45;&#45;node21 -->\n<g class=\"edge\" id=\"edge16\">\n<title>node22--node21</title>\n<path d=\"M539.2953,-185.2408C565.1018,-176.9458 613.4032,-161.4204 639.1711,-153.1379\" fill=\"none\" stroke=\"#000000\"/>\n</g>\n<!-- node15 -->\n<g class=\"node\" id=\"node17\">\n<title>node15</title>\n<polygon fill=\"none\" points=\"573.6,-79.2 537.6,-79.2 537.6,-43.2 573.6,-43.2 573.6,-79.2\" stroke=\"#000000\"/>\n<text fill=\"#000000\" font-family=\"Times,serif\" font-size=\"14.00\" text-anchor=\"middle\" x=\"555.6\" y=\"-57.5\">1</text>\n</g>\n<!-- node17 -->\n<g class=\"node\" id=\"node18\">\n<title>node17</title>\n<ellipse cx=\"589.2\" cy=\"-104.4\" fill=\"none\" rx=\"18\" ry=\"18\" stroke=\"#000000\"/>\n<text fill=\"#000000\" font-family=\"Times,serif\" font-size=\"14.00\" text-anchor=\"middle\" x=\"589.2\" y=\"-100.7\">-</text>\n</g>\n<!-- node17&#45;&#45;node15 -->\n<g class=\"edge\" id=\"edge18\">\n<title>node17--node15</title>\n<path d=\"M577.8246,-89.7744C575.2353,-86.4455 572.4536,-82.8689 569.7642,-79.4111\" fill=\"none\" stroke=\"#000000\"/>\n</g>\n<!-- node16 -->\n<g class=\"node\" id=\"node19\">\n<title>node16</title>\n<polygon fill=\"none\" points=\"640.8,-79.2 604.8,-79.2 604.8,-43.2 640.8,-43.2 640.8,-79.2\" stroke=\"#000000\"/>\n<text fill=\"#000000\" font-family=\"Times,serif\" font-size=\"14.00\" text-anchor=\"middle\" x=\"622.8\" y=\"-57.5\">y</text>\n</g>\n<!-- node17&#45;&#45;node16 -->\n<g class=\"edge\" id=\"edge19\">\n<title>node17--node16</title>\n<path d=\"M600.5754,-89.7744C603.1646,-86.4455 605.9464,-82.8689 608.6358,-79.4111\" fill=\"none\" stroke=\"#000000\"/>\n</g>\n<!-- node21&#45;&#45;node17 -->\n<g class=\"edge\" id=\"edge17\">\n<title>node21--node17</title>\n<path d=\"M641.1513,-137.7973C630.1536,-130.7273 615.3722,-121.225 604.3884,-114.164\" fill=\"none\" stroke=\"#000000\"/>\n</g>\n<!-- node20 -->\n<g class=\"node\" id=\"node22\">\n<title>node20</title>\n<ellipse cx=\"723.6\" cy=\"-104.4\" fill=\"none\" rx=\"18\" ry=\"18\" stroke=\"#000000\"/>\n<text fill=\"#000000\" font-family=\"Times,serif\" font-size=\"14.00\" text-anchor=\"middle\" x=\"723.6\" y=\"-100.7\">-</text>\n</g>\n<!-- node21&#45;&#45;node20 -->\n<g class=\"edge\" id=\"edge20\">\n<title>node21--node20</title>\n<path d=\"M671.6487,-137.7973C682.6464,-130.7273 697.4278,-121.225 708.4116,-114.164\" fill=\"none\" stroke=\"#000000\"/>\n</g>\n<!-- node18 -->\n<g class=\"node\" id=\"node21\">\n<title>node18</title>\n<polygon fill=\"none\" points=\"708,-79.2 672,-79.2 672,-43.2 708,-43.2 708,-79.2\" stroke=\"#000000\"/>\n<text fill=\"#000000\" font-family=\"Times,serif\" font-size=\"14.00\" text-anchor=\"middle\" x=\"690\" y=\"-57.5\">1</text>\n</g>\n<!-- node20&#45;&#45;node18 -->\n<g class=\"edge\" id=\"edge21\">\n<title>node20--node18</title>\n<path d=\"M712.2246,-89.7744C709.6353,-86.4455 706.8536,-82.8689 704.1642,-79.4111\" fill=\"none\" stroke=\"#000000\"/>\n</g>\n<!-- node19 -->\n<g class=\"node\" id=\"node23\">\n<title>node19</title>\n<polygon fill=\"none\" points=\"775.2,-79.2 739.2,-79.2 739.2,-43.2 775.2,-43.2 775.2,-79.2\" stroke=\"#000000\"/>\n<text fill=\"#000000\" font-family=\"Times,serif\" font-size=\"14.00\" text-anchor=\"middle\" x=\"757.2\" y=\"-57.5\">y</text>\n</g>\n<!-- node20&#45;&#45;node19 -->\n<g class=\"edge\" id=\"edge22\">\n<title>node20--node19</title>\n<path d=\"M734.9754,-89.7744C737.5646,-86.4455 740.3464,-82.8689 743.0358,-79.4111\" fill=\"none\" stroke=\"#000000\"/>\n</g>\n</g>\n</svg>"
          },
          "metadata": {
            "tags": []
          }
        }
      ]
    }
  ]
}