{
  "nbformat": 4,
  "nbformat_minor": 0,
  "metadata": {
    "kernelspec": {
      "display_name": "Python 3",
      "language": "python",
      "name": "python3"
    },
    "language_info": {
      "codemirror_mode": {
        "name": "ipython",
        "version": 3
      },
      "file_extension": ".py",
      "mimetype": "text/x-python",
      "name": "python",
      "nbconvert_exporter": "python",
      "pygments_lexer": "ipython3",
      "version": "3.7.1"
    },
    "colab": {
      "name": "T1",
      "provenance": [],
      "collapsed_sections": []
    }
  },
  "cells": [
    {
      "cell_type": "markdown",
      "metadata": {
        "id": "_Q2SFIAPOylT"
      },
      "source": [
        "# CC3001 Otoño 2021 Tarea 1\n",
        "\n",
        "## Escribir números en palabras\n",
        "\n",
        "### Profesores\n",
        "Sección 1 Iván Sipirán •\n",
        "Sección 2 Patricio Poblete •\n",
        "Sección 3 Nelson Baloian\n"
      ]
    },
    {
      "cell_type": "markdown",
      "metadata": {
        "id": "IAaBIWKlOylU"
      },
      "source": [
        "El objetivo de esta tarea es que usted implemente una función ``palabras(n)`` que al ser llamada entregue un string que contenga el número ``n`` expresado en palabras, donde ``n`` es un número entero nonegativo menor que mil millones.\n",
        "\n",
        "Por ejemplo,\n",
        "\n",
        "```\n",
        "palabras(12) = \"doce\"\n",
        "palabras(41025) = \"cuarenta y un mil veinticinco\"\n",
        "```\n",
        "\n",
        "A modo de inspiración, a continuación hay una versión rudimentaria de esta función, en que todos los casos se manejan de la manera más simple posible. Como usted verá, si la prueba con diferentes valores de ``n``, esta versión de la función le acierta a muchos casos, pero también se equivoca en muchos otros. La versión que usted entregue debería manejar bien todos los casos."
      ]
    },
    {
      "cell_type": "markdown",
      "metadata": {
        "id": "M92GDEW1jjzN"
      },
      "source": [
        "Como primer paso, comenzaremos escribiendo una función restringida a números menores que mil:"
      ]
    },
    {
      "cell_type": "code",
      "metadata": {
        "id": "OEygUEyJjs6D"
      },
      "source": [
        "#def palabras1000(n):\n",
        " # unidades = [\"cero\",\"un\",\"dos\",\"tres\",\"cuatro\",\"cinco\",\"seis\",\"siete\",\"ocho\",\n",
        " #             \"nueve\"]\n",
        " # decenas = [\"\",\"diez\",\"veinte\",\"treinta\",\"cuarenta\",\"cincuenta\",\"sesenta\",\n",
        " #            \"setenta\",\"ochenta\",\"noventa\"]\n",
        " # centenas = [\"\",\"ciento\",\"doscientos\",\"trescientos\",\"cuatrocientos\",\"quinientos\",\n",
        " #             \"seiscientos\",\"setecientos\",\"ochocientos\",\"novecientos\"]\n",
        " # (c,d,u)=(n//100,(n%100//10),n%10)\n",
        " # return centenas[c]+\" \"+decenas[d]+\" y \"+unidades[u]"
      ],
      "execution_count": null,
      "outputs": []
    },
    {
      "cell_type": "markdown",
      "metadata": {
        "id": "iGOA9770krAA"
      },
      "source": [
        "Como se puede ver en las siguientes pruebas, esto funciona buen en algunos casos, pero se equivoca en muchos otros:"
      ]
    },
    {
      "cell_type": "code",
      "metadata": {
        "colab": {
          "base_uri": "https://localhost:8080/",
          "height": 35
        },
        "id": "afXOb969k9TQ",
        "outputId": "6f4860a0-7d22-410b-d9a9-ba13ed149d0c"
      },
      "source": [
        "palabras1000(785)"
      ],
      "execution_count": null,
      "outputs": [
        {
          "output_type": "execute_result",
          "data": {
            "application/vnd.google.colaboratory.intrinsic+json": {
              "type": "string"
            },
            "text/plain": [
              "'setecientos ochenta y cinco'"
            ]
          },
          "metadata": {
            "tags": []
          },
          "execution_count": 32
        }
      ]
    },
    {
      "cell_type": "code",
      "metadata": {
        "colab": {
          "base_uri": "https://localhost:8080/",
          "height": 35
        },
        "id": "BDUzS67QoJqa",
        "outputId": "e3a30ef2-3bf6-4dc5-9a85-160f7b1ff0b9"
      },
      "source": [
        "palabras1000(47)"
      ],
      "execution_count": null,
      "outputs": [
        {
          "output_type": "execute_result",
          "data": {
            "application/vnd.google.colaboratory.intrinsic+json": {
              "type": "string"
            },
            "text/plain": [
              "' cuarenta y siete'"
            ]
          },
          "metadata": {
            "tags": []
          },
          "execution_count": 33
        }
      ]
    },
    {
      "cell_type": "code",
      "metadata": {
        "colab": {
          "base_uri": "https://localhost:8080/",
          "height": 35
        },
        "id": "nDbvGmHUoNF-",
        "outputId": "d6b78c59-9cde-4b61-90dc-a771395324b5"
      },
      "source": [
        "palabras1000(30)"
      ],
      "execution_count": null,
      "outputs": [
        {
          "output_type": "execute_result",
          "data": {
            "application/vnd.google.colaboratory.intrinsic+json": {
              "type": "string"
            },
            "text/plain": [
              "' treinta y cero'"
            ]
          },
          "metadata": {
            "tags": []
          },
          "execution_count": 34
        }
      ]
    },
    {
      "cell_type": "code",
      "metadata": {
        "colab": {
          "base_uri": "https://localhost:8080/",
          "height": 35
        },
        "id": "gb0JbP1doQ-I",
        "outputId": "e98d77a2-1017-4b9c-b8a3-c64a3841cf2d"
      },
      "source": [
        "palabras1000(140)"
      ],
      "execution_count": null,
      "outputs": [
        {
          "output_type": "execute_result",
          "data": {
            "application/vnd.google.colaboratory.intrinsic+json": {
              "type": "string"
            },
            "text/plain": [
              "'ciento cuarenta y cero'"
            ]
          },
          "metadata": {
            "tags": []
          },
          "execution_count": 35
        }
      ]
    },
    {
      "cell_type": "markdown",
      "metadata": {
        "id": "vl4zVxQnk115"
      },
      "source": [
        "A continuación vemos el caso general:"
      ]
    },
    {
      "cell_type": "code",
      "metadata": {
        "id": "qkl1Tc3YOylV"
      },
      "source": [
        "#def palabras(n):\n",
        "#  assert 0<=n<1000000000\n",
        "#\n",
        "#  if n==0:\n",
        "#    return \"cero\"\n",
        "\n",
        "#  (a,b,c)=(n//1000000,(n%1000000)//1000,n%1000)\n",
        "#  # n es de la forma \"a millones b mil c\"\n",
        "#  return palabras1000(a)+\" millones \"+palabras1000(b)+\" mil \"+palabras1000(c)"
      ],
      "execution_count": null,
      "outputs": []
    },
    {
      "cell_type": "markdown",
      "metadata": {
        "id": "ZjXGuYGXnGb-"
      },
      "source": [
        "Nuevamente, vemos que esto podría mejorarse bastante:"
      ]
    },
    {
      "cell_type": "code",
      "metadata": {
        "id": "-ehVwCp4OylY",
        "colab": {
          "base_uri": "https://localhost:8080/",
          "height": 52
        },
        "outputId": "4d46c1bb-fa73-4dde-b8ab-d48acb126ccc"
      },
      "source": [
        "palabras(543786237)"
      ],
      "execution_count": null,
      "outputs": [
        {
          "output_type": "execute_result",
          "data": {
            "application/vnd.google.colaboratory.intrinsic+json": {
              "type": "string"
            },
            "text/plain": [
              "'quinientos cuarenta y tres millones setecientos ochenta y seis mil doscientos treinta y siete'"
            ]
          },
          "metadata": {
            "tags": []
          },
          "execution_count": 37
        }
      ]
    },
    {
      "cell_type": "code",
      "metadata": {
        "colab": {
          "base_uri": "https://localhost:8080/",
          "height": 35
        },
        "id": "OTErb0eAnl57",
        "outputId": "9633533b-9db5-4fd3-9a19-3ff54eb9b8ee"
      },
      "source": [
        "palabras(42515)"
      ],
      "execution_count": null,
      "outputs": [
        {
          "output_type": "execute_result",
          "data": {
            "application/vnd.google.colaboratory.intrinsic+json": {
              "type": "string"
            },
            "text/plain": [
              "'  y cero millones  cuarenta y dos mil quinientos diez y cinco'"
            ]
          },
          "metadata": {
            "tags": []
          },
          "execution_count": 38
        }
      ]
    },
    {
      "cell_type": "markdown",
      "metadata": {
        "id": "uUdBcdbGOylf"
      },
      "source": [
        "Tomando como base este código, escriba una solución que implemente lo pedido con el mínimo de equivocaciones posible, idealmente ninguna. Aparte de los casos de prueba descritos, agregue los que considere necesarios para demostrar el correcto funcionamiento de su programa.\n",
        "\n",
        "En caso de que a pesar de sus esfuerzos todavía queden algunos casos \"rebeldes\", se considerará positivamente que también los incluya, señalándolos como tales y explicando por qué no pudo corregirlos."
      ]
    },
    {
      "cell_type": "markdown",
      "metadata": {
        "id": "jzrNv3ZkOylh"
      },
      "source": [
        "## ¿Qué hay que entregar?\n",
        "\n",
        "Usted debe crear una copia de este documento (del menú seleccionar \"Archivo\" o \"File\" y de ahi la opción \"guardar copia en Drive\" o \"save a copy in Drive\"). Este nuevo documento (notebook de Colab) es el que debe modificar para luego compartirlo con la opción \"Cualquier usuario de internet con este enlace puede ver esto\" (o “Anyone on the internet with this link can view”). Esta opción se encuentra disponible en la parte superior derecha de su notebook, en el botón \"Compartir\" (o \"Share\"). Una vez que tenga disponible el enlace, suba a U-Cursos un archivo de texto cuyo contenido es el enlace de su tarea."
      ]
    },
    {
      "cell_type": "code",
      "metadata": {
        "id": "05Lr4eU5yA9M"
      },
      "source": [
        "#Kevin Alexis Iturra Carreño sección 2\n",
        "unidades = [\"cero\",\"uno\",\"dos\",\"tres\",\"cuatro\",\"cinco\",\"seis\",\"siete\",\"ocho\",\"nueve\"]\n",
        "decena1 = [\"diez\",\"once\",\"doce\",\"trece\",\"catorce\",\"quince\",\"dieciséis\",\"diecisiete\",\"dieciocho\",\"diecinueve\"]\n",
        "decenas = [\"veinte\",\"treinta\",\"cuarenta\",\"cincuenta\",\"sesenta\",\"setenta\",\"ochenta\",\"noventa\"]\n",
        "centenas = [\"\",\"ciento\",\"doscientos\",\"trescientos\",\"cuatrocientos\",\"quinientos\",\"seiscientos\",\"setecientos\",\"ochocientos\",\"novecientos\"]\n",
        "#Usar palabras(n) para que llame a 4 funciones aulixiares distintas dependiendo del numero ingresado\n",
        "#el num.replace() nose si se puede ocupar pero no encontré otra manera más fácil de poder cambiar el error de \"uno mil\" y \"un mil\". Y soluciona los errores con números del tipo 21000\n",
        "#La idea de usar el .replace() viene de https://www.w3schools.com/python/ref_string_replace.asp\n",
        "#Hice hasta el mil millon menos uno porque entendí que el mil millon no cuenta ya que dice menor a mil millon.\n",
        "#Debido a muchos errores en el proceso con los datos, decidí trabajar con pares de variables en vez del trío inicial que nos daba la motivación.\n",
        "\n",
        "def palabras(n):\n",
        "    assert 0<=n<1000000000\n",
        "\n",
        "    if n<100:\n",
        "        num=ceroa99(n)\n",
        "    elif n<1000:\n",
        "        num=ciena999(n)\n",
        "    elif n<1000000:\n",
        "        num=palabras1000(n)\n",
        "    elif n<1000000000:\n",
        "        num=millones(n)\n",
        "    num=num.replace(\"uno mil\",\"un mil\")\n",
        "    return \" \".join(num.split()) #soluciona el problema de los espacios, sugerido por el aux.\n",
        "\n",
        "#La funcion millones, como su nombre lo dice, trabaja con los millones.\n",
        "#Error en millón. Se le asigna un caso para este.\n",
        "#Si mill está entre 2 y 9 el numero será el de la lista unidades asignado por la posición mill.\n",
        "#Si está entre 10 y 99 el numero será el resultante del llamado a la función decena(mill)\n",
        "#Si está entre 100 y 999 el número será el resultante del llamado a la función auxiliar centena(mill)\n",
        "#Si mill es mayor a 1 se le agrega al número la palabra millones.\n",
        "#En el caso de que m este entre 0 y 999 el numero sea el mismo más el llamado a palabras1000(m)\n",
        "#Si está entre 1000 y 999999, etonces el numero sea num más el llamado a la función palabras1000(m).(Al final retorna el numero).\n",
        "def millones(n):\n",
        "    (mill,m)=(n//1000000,n%1000000)\n",
        "    if mill==1:\n",
        "        num=\" un millón \"\n",
        "    if 2<=mill<=9:\n",
        "        num=unidades[mill]\n",
        "    elif 10<=mill<=99:\n",
        "        num=ceroa99(mill)\n",
        "    elif 100<=mill<=999:\n",
        "        num=ciena999(mill)\n",
        "    if mill>1:\n",
        "        num=num+ \" millones \"\n",
        "    if 0<m<=999:\n",
        "        num=num+ciena999(m)\n",
        "    elif 1000<=m<=999999:\n",
        "        num=num+palabras1000(m)\n",
        "    return num\n",
        "\n",
        "#La función palabras1000 es llamada cuando n tiene de cuatro a seis dígitos.\n",
        "#El primer error es 1000, se define un caso especial para este.\n",
        "#para el resto de números se divide en casos dependiendo del valor de n//1000. Se llama a la funcion decena o centena dependiendo.\n",
        "#Si m está entre dos y 9 entonces el numero será el que esté en la lista unidades asignando la posición el valor m.\n",
        "#Al final se \"pregunta\" si la centena c es mayor que cero para así llamar a la función centena. Al final retorna el número.\n",
        "def palabras1000(n):\n",
        "    (m,c)=(n//1000,n%1000)\n",
        "    if m==1:\n",
        "        num=\"\"\n",
        "    if 2<=m<=9:\n",
        "        num=unidades[m]\n",
        "    elif 10<=m<=99:\n",
        "        num=ceroa99(m)\n",
        "    elif 100<=m<=999:\n",
        "        num=ciena999(m)\n",
        "    num=num+\" mil \"\n",
        "    if c>0:\n",
        "        num=num+ciena999(c)\n",
        "    return num\n",
        "\n",
        "#La función centena es llamada cuando n tiene tres dígitos.\n",
        "#El primer error es 100 asique se define un caso especial para este.\n",
        "#Para el resto de números se verifica si su decena es mayor a 0, si lo es entonces al numero se le agrega el valor resultante de llamar a la funcion decena con el valor d.(Al final retorna el numero)\n",
        "def ciena999(n):\n",
        "  (c,d)= (n//100, n%100)\n",
        "  if n==100:\n",
        "        num=\"cien\"\n",
        "  else:\n",
        "    num=centenas[c]\n",
        "    if d>0:\n",
        "      num= num + \" \" + ceroa99(d)\n",
        "  return num\n",
        "\n",
        "#La función decena es llamada cuando n tiene dos dígitos o uno. El problema con los num del 11 al 19 se soluciona agregando otra lista con sus respect. nombres.\n",
        "#El problema con los números 20-29 se soluciona con el primer elif haciendo que si n es mayor a 19 pero menor que 30,\n",
        "#entonces, si la unidad es 0 (numero 20) vaya a la lista decenas y que num le asigne la posición indicada.\n",
        "#Se intentó crear otra lista con los números del 21 al 29 pero asignaba otros valores no correspondientes\n",
        "#El último else es para los mayores a 29 y menores a 100. Además soluciona el error de que aparezcan numeros de la forma treinta y cero. (Al final retorna num que es el número)\n",
        "def ceroa99(n):\n",
        "  (d,u)=(n//10,n%10)\n",
        "  if n<10:\n",
        "    return unidades[n]\n",
        "  if n<=19:\n",
        "      num=decena1[u]\n",
        "  elif n<=29:\n",
        "    if u==0:\n",
        "      num=decenas[d-2]\n",
        "    else:\n",
        "      num=\"veinti\" + unidades[u]\n",
        "  else:\n",
        "      num=decenas[d-2]\n",
        "      if u>0:\n",
        "          num=num + \" y \" + unidades[u]\n",
        "  return num\n",
        "#No entendí bien la instrucción sobre si debían llamarse las funciones tal cual o no, pero espero que lo que hice sirva o esté dentro de lo esperado."
      ],
      "execution_count": null,
      "outputs": []
    },
    {
      "cell_type": "code",
      "metadata": {
        "colab": {
          "base_uri": "https://localhost:8080/",
          "height": 34
        },
        "id": "SYzvstNM_oFT",
        "outputId": "ded77fcb-950b-457a-c465-b22343d661a8"
      },
      "source": [
        "palabras(0)"
      ],
      "execution_count": null,
      "outputs": [
        {
          "output_type": "execute_result",
          "data": {
            "application/vnd.google.colaboratory.intrinsic+json": {
              "type": "string"
            },
            "text/plain": [
              "'cero'"
            ]
          },
          "metadata": {
            "tags": []
          },
          "execution_count": 3
        }
      ]
    },
    {
      "cell_type": "code",
      "metadata": {
        "colab": {
          "base_uri": "https://localhost:8080/",
          "height": 34
        },
        "id": "VzwVrmej_oT3",
        "outputId": "29f2a374-c955-4760-ab06-7d670c590456"
      },
      "source": [
        "palabras(20)"
      ],
      "execution_count": null,
      "outputs": [
        {
          "output_type": "execute_result",
          "data": {
            "application/vnd.google.colaboratory.intrinsic+json": {
              "type": "string"
            },
            "text/plain": [
              "'veinte'"
            ]
          },
          "metadata": {
            "tags": []
          },
          "execution_count": 4
        }
      ]
    },
    {
      "cell_type": "code",
      "metadata": {
        "colab": {
          "base_uri": "https://localhost:8080/",
          "height": 34
        },
        "id": "bcO3SGLs_ob4",
        "outputId": "8a298ae1-ba8d-4697-e77c-1f1219797b9c"
      },
      "source": [
        "palabras(30)"
      ],
      "execution_count": null,
      "outputs": [
        {
          "output_type": "execute_result",
          "data": {
            "application/vnd.google.colaboratory.intrinsic+json": {
              "type": "string"
            },
            "text/plain": [
              "'treinta'"
            ]
          },
          "metadata": {
            "tags": []
          },
          "execution_count": 5
        }
      ]
    },
    {
      "cell_type": "code",
      "metadata": {
        "colab": {
          "base_uri": "https://localhost:8080/",
          "height": 34
        },
        "id": "xCvNWqsk_oiY",
        "outputId": "70ba0d8c-0e67-4445-b68c-d864fa87827b"
      },
      "source": [
        "palabras(111001010)"
      ],
      "execution_count": null,
      "outputs": [
        {
          "output_type": "execute_result",
          "data": {
            "application/vnd.google.colaboratory.intrinsic+json": {
              "type": "string"
            },
            "text/plain": [
              "'ciento once millones mil diez'"
            ]
          },
          "metadata": {
            "tags": []
          },
          "execution_count": 4
        }
      ]
    },
    {
      "cell_type": "code",
      "metadata": {
        "colab": {
          "base_uri": "https://localhost:8080/",
          "height": 34
        },
        "id": "sa3yXT6s_oph",
        "outputId": "384f0707-fc74-4a7d-e0fb-9f68d38b8975"
      },
      "source": [
        "palabras(1000)"
      ],
      "execution_count": null,
      "outputs": [
        {
          "output_type": "execute_result",
          "data": {
            "application/vnd.google.colaboratory.intrinsic+json": {
              "type": "string"
            },
            "text/plain": [
              "' mil '"
            ]
          },
          "metadata": {
            "tags": []
          },
          "execution_count": 7
        }
      ]
    },
    {
      "cell_type": "code",
      "metadata": {
        "colab": {
          "base_uri": "https://localhost:8080/",
          "height": 34
        },
        "id": "UgtsNhbK_ovg",
        "outputId": "a85f8fc4-2b90-4c83-fdbd-e75838251832"
      },
      "source": [
        "palabras(101010101)"
      ],
      "execution_count": null,
      "outputs": [
        {
          "output_type": "execute_result",
          "data": {
            "application/vnd.google.colaboratory.intrinsic+json": {
              "type": "string"
            },
            "text/plain": [
              "'ciento un millones diez mil ciento uno'"
            ]
          },
          "metadata": {
            "tags": []
          },
          "execution_count": 9
        }
      ]
    },
    {
      "cell_type": "code",
      "metadata": {
        "colab": {
          "base_uri": "https://localhost:8080/",
          "height": 34
        },
        "id": "g_ZcpEdp_o1t",
        "outputId": "336803d5-62f6-4431-8f4e-5e73a5ff6956"
      },
      "source": [
        "palabras(100100101)"
      ],
      "execution_count": null,
      "outputs": [
        {
          "output_type": "execute_result",
          "data": {
            "application/vnd.google.colaboratory.intrinsic+json": {
              "type": "string"
            },
            "text/plain": [
              "'cien millones cien mil ciento uno'"
            ]
          },
          "metadata": {
            "tags": []
          },
          "execution_count": 11
        }
      ]
    },
    {
      "cell_type": "code",
      "metadata": {
        "colab": {
          "base_uri": "https://localhost:8080/",
          "height": 34
        },
        "id": "dwQASFAY_o7c",
        "outputId": "a10e8358-ed64-4cde-ac29-9e080adb1d01"
      },
      "source": [
        "palabras(29432922)"
      ],
      "execution_count": null,
      "outputs": [
        {
          "output_type": "execute_result",
          "data": {
            "application/vnd.google.colaboratory.intrinsic+json": {
              "type": "string"
            },
            "text/plain": [
              "'veintinueve millones cuatrocientos treinta y dos mil novecientos veintidos'"
            ]
          },
          "metadata": {
            "tags": []
          },
          "execution_count": 12
        }
      ]
    },
    {
      "cell_type": "code",
      "metadata": {
        "colab": {
          "base_uri": "https://localhost:8080/",
          "height": 34
        },
        "id": "cwJFwQ9R_pAl",
        "outputId": "42fb6fed-1701-4456-e653-0bca5e6fed82"
      },
      "source": [
        "palabras(999999999)"
      ],
      "execution_count": null,
      "outputs": [
        {
          "output_type": "execute_result",
          "data": {
            "application/vnd.google.colaboratory.intrinsic+json": {
              "type": "string"
            },
            "text/plain": [
              "'novecientos noventa y nueve millones novecientos noventa y nueve mil novecientos noventa y nueve'"
            ]
          },
          "metadata": {
            "tags": []
          },
          "execution_count": 13
        }
      ]
    },
    {
      "cell_type": "code",
      "metadata": {
        "colab": {
          "base_uri": "https://localhost:8080/",
          "height": 34
        },
        "id": "0H1FC544_pGu",
        "outputId": "fbc81c5a-5356-4a51-8330-aa045dddd186"
      },
      "source": [
        "palabras(100010001)"
      ],
      "execution_count": null,
      "outputs": [
        {
          "output_type": "execute_result",
          "data": {
            "application/vnd.google.colaboratory.intrinsic+json": {
              "type": "string"
            },
            "text/plain": [
              "'cien millones diez mil uno'"
            ]
          },
          "metadata": {
            "tags": []
          },
          "execution_count": 5
        }
      ]
    },
    {
      "cell_type": "code",
      "metadata": {
        "colab": {
          "base_uri": "https://localhost:8080/",
          "height": 34
        },
        "id": "k-7972RX_pMR",
        "outputId": "8e0ff941-cc6d-4d0b-bd7d-59ddec803c22"
      },
      "source": [
        "palabras(200000000)"
      ],
      "execution_count": null,
      "outputs": [
        {
          "output_type": "execute_result",
          "data": {
            "application/vnd.google.colaboratory.intrinsic+json": {
              "type": "string"
            },
            "text/plain": [
              "'doscientos millones '"
            ]
          },
          "metadata": {
            "tags": []
          },
          "execution_count": 15
        }
      ]
    },
    {
      "cell_type": "code",
      "metadata": {
        "colab": {
          "base_uri": "https://localhost:8080/",
          "height": 34
        },
        "id": "bqpRQD_u_pSA",
        "outputId": "3026543e-d20b-4dbf-82cf-831752fc88c6"
      },
      "source": [
        "palabras(100011001)"
      ],
      "execution_count": null,
      "outputs": [
        {
          "output_type": "execute_result",
          "data": {
            "application/vnd.google.colaboratory.intrinsic+json": {
              "type": "string"
            },
            "text/plain": [
              "'cien millones once mil uno'"
            ]
          },
          "metadata": {
            "tags": []
          },
          "execution_count": 6
        }
      ]
    },
    {
      "cell_type": "code",
      "metadata": {
        "colab": {
          "base_uri": "https://localhost:8080/",
          "height": 34
        },
        "id": "RV68WHhg_pXw",
        "outputId": "20b6bc19-8875-4a3d-9936-437d6302c038"
      },
      "source": [
        "palabras(999000987)"
      ],
      "execution_count": null,
      "outputs": [
        {
          "output_type": "execute_result",
          "data": {
            "application/vnd.google.colaboratory.intrinsic+json": {
              "type": "string"
            },
            "text/plain": [
              "'novecientos noventa y nueve millones novecientos ochenta y siete'"
            ]
          },
          "metadata": {
            "tags": []
          },
          "execution_count": 17
        }
      ]
    },
    {
      "cell_type": "code",
      "metadata": {
        "colab": {
          "base_uri": "https://localhost:8080/",
          "height": 34
        },
        "id": "wB5P3iuB_pck",
        "outputId": "c7d992f0-68b8-4359-d76a-0a36a091077b"
      },
      "source": [
        "palabras(210210210)"
      ],
      "execution_count": null,
      "outputs": [
        {
          "output_type": "execute_result",
          "data": {
            "application/vnd.google.colaboratory.intrinsic+json": {
              "type": "string"
            },
            "text/plain": [
              "'doscientos diez millones doscientos diez mil doscientos diez'"
            ]
          },
          "metadata": {
            "tags": []
          },
          "execution_count": 18
        }
      ]
    },
    {
      "cell_type": "code",
      "metadata": {
        "colab": {
          "base_uri": "https://localhost:8080/",
          "height": 34
        },
        "id": "-dEYk1Nw_piG",
        "outputId": "b3efa35b-9b63-4d26-db87-2d334d9dcedb"
      },
      "source": [
        "palabras(1001001)"
      ],
      "execution_count": null,
      "outputs": [
        {
          "output_type": "execute_result",
          "data": {
            "application/vnd.google.colaboratory.intrinsic+json": {
              "type": "string"
            },
            "text/plain": [
              "'un millón mil uno'"
            ]
          },
          "metadata": {
            "tags": []
          },
          "execution_count": 7
        }
      ]
    },
    {
      "cell_type": "code",
      "metadata": {
        "colab": {
          "base_uri": "https://localhost:8080/",
          "height": 34
        },
        "id": "vtv7ZIoe_pnj",
        "outputId": "7ccfaf13-8511-445f-8607-135eb24abe8b"
      },
      "source": [
        "palabras(221222)"
      ],
      "execution_count": null,
      "outputs": [
        {
          "output_type": "execute_result",
          "data": {
            "application/vnd.google.colaboratory.intrinsic+json": {
              "type": "string"
            },
            "text/plain": [
              "'doscientos veintiun mil doscientos veintidos'"
            ]
          },
          "metadata": {
            "tags": []
          },
          "execution_count": 20
        }
      ]
    },
    {
      "cell_type": "code",
      "metadata": {
        "colab": {
          "base_uri": "https://localhost:8080/",
          "height": 34
        },
        "id": "i67h0UEN_ps_",
        "outputId": "186aaf7e-5e62-437d-f0c0-d934eda2b11f"
      },
      "source": [
        "palabras(21000)"
      ],
      "execution_count": null,
      "outputs": [
        {
          "output_type": "execute_result",
          "data": {
            "application/vnd.google.colaboratory.intrinsic+json": {
              "type": "string"
            },
            "text/plain": [
              "'veintiun mil '"
            ]
          },
          "metadata": {
            "tags": []
          },
          "execution_count": 21
        }
      ]
    },
    {
      "cell_type": "code",
      "metadata": {
        "colab": {
          "base_uri": "https://localhost:8080/",
          "height": 34
        },
        "id": "paDDwSSO_pxy",
        "outputId": "99f4ce4f-d0c3-47e0-faf1-0f6ca0a93fcd"
      },
      "source": [
        "palabras(123456789)"
      ],
      "execution_count": null,
      "outputs": [
        {
          "output_type": "execute_result",
          "data": {
            "application/vnd.google.colaboratory.intrinsic+json": {
              "type": "string"
            },
            "text/plain": [
              "'ciento veintitres millones cuatrocientos cincuenta y seis mil setecientos ochenta y nueve'"
            ]
          },
          "metadata": {
            "tags": []
          },
          "execution_count": 22
        }
      ]
    },
    {
      "cell_type": "code",
      "metadata": {
        "colab": {
          "base_uri": "https://localhost:8080/",
          "height": 34
        },
        "id": "qrYEALSm_p2R",
        "outputId": "7aef514f-2eea-483c-b688-2f99fa1816f4"
      },
      "source": [
        "palabras(10001000)"
      ],
      "execution_count": null,
      "outputs": [
        {
          "output_type": "execute_result",
          "data": {
            "application/vnd.google.colaboratory.intrinsic+json": {
              "type": "string"
            },
            "text/plain": [
              "'diez millones mil'"
            ]
          },
          "metadata": {
            "tags": []
          },
          "execution_count": 8
        }
      ]
    }
  ]
}