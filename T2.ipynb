{
  "nbformat": 4,
  "nbformat_minor": 0,
  "metadata": {
    "kernelspec": {
      "display_name": "Python 3",
      "language": "python",
      "name": "python3"
    },
    "language_info": {
      "codemirror_mode": {
        "name": "ipython",
        "version": 3
      },
      "file_extension": ".py",
      "mimetype": "text/x-python",
      "name": "python",
      "nbconvert_exporter": "python",
      "pygments_lexer": "ipython3",
      "version": "3.7.1"
    },
    "colab": {
      "name": "T2",
      "provenance": [],
      "collapsed_sections": [
        "uaJjQHQk_Htk"
      ]
    }
  },
  "cells": [
    {
      "cell_type": "markdown",
      "metadata": {
        "id": "TuBrFz2U_Hth"
      },
      "source": [
        "# CC3001 Otoño 2021 Tarea 2\n",
        "\n",
        "## Shellsort\n",
        "\n",
        "### Profesores\n",
        "Sección 1 Iván Sipirán •\n",
        "Sección 2 Patricio Poblete •\n",
        "Sección 3 Nelson Baloian\n"
      ]
    },
    {
      "cell_type": "markdown",
      "metadata": {
        "id": "HiNcDvrX_Htj"
      },
      "source": [
        "El objetivo de esta tarea es que usted implemente el algoritmo de ordenación Shellsort.\n",
        "\n",
        "Para describir cómo funciona Shellsort definamos un arreglo \"$d$-ordenado\" (donde $d$ es un entero mayor o igual a 1) como un arreglo en que cada elemento está ordenado respecto de sus vecinos que están a $d$ casilleros de distancia. Por ejemplo, en el siguiente diagrama se muestran un arreglo antes y después de ser \"3-ordenado\", destacando en distintos colores las las subsecuencias que se forman al considerar elementos que están a distancia 3:\n",
        "\n",
        "Antes:\n",
        "\n",
        "![shellsort1](https://github.com/ppoblete/CC3001-2020-2-Tareas/blob/master/shellsort1.png?raw=1)\n",
        "\n",
        "Después:\n",
        "\n",
        "![shellsort2](https://github.com/ppoblete/CC3001-2020-2-Tareas/blob/master/shellsort2.png?raw=1)\n",
        "\n",
        "Noten que el caso particular de un arreglo \"1-ordenado\" (caso $d=1$) sería lo mismo que un arreglo ordenado.\n",
        "\n",
        "El algoritmo Shellsort consiste en hacer una secuencia de pasadas $d$-ordenando el arreglo, cada vez con un valor diferente de $d$, siendo la última siempre con $d=1$.\n",
        "\n",
        "Para hacer una pasada de Shellsort elegimos un valor de $d$ y luego aplicamos una versión modificada de ordenación por inserción. La modificación consiste en que la función ``insertar(a,k)`` compara con el elemento $d$ casilleros más atrás, en lugar de hacerlo con el que está uno más atrás.\n",
        "\n",
        "Para ordenar el arreglo completo, Shellsort hace una secuencia de pasadas, con un conjunto decreciente de valores $d_k,d_{k-1}, \\ldots,d_1$, con $d_1=1$. Esto último asegura que el arreglo quede finalmente ordenado, pero las pasadas anteriores contribuyen a acelerar el proceso, porque hay un teorema (que no les pedimos demostrar) que dice que si un arreglo que ya estaba $i$-ordenado se $j$-ordena, el arreglo resultante sigue estando $i$-ordenado. Esto es, una pasada no echa a perder lo que han hecho las anteriores."
      ]
    },
    {
      "cell_type": "markdown",
      "metadata": {
        "id": "uaJjQHQk_Htk"
      },
      "source": [
        "# Recuerdo de la ordenación por inserción\n",
        "\n",
        "Recuerde que la ordenación por inserción está implementada en el apunte de la manera siguiente:"
      ]
    },
    {
      "cell_type": "code",
      "metadata": {
        "id": "pzCxbxct_Htl"
      },
      "source": [
        "def ordena_insercion(a):\n",
        "    \"\"\"Ordena el arreglo a por inserción\"\"\"\n",
        "    n=len(a)\n",
        "    for k in range(0,n):\n",
        "        insertar(a,k)\n",
        "        \n",
        "def insertar(a, k):\n",
        "    \"\"\"\n",
        "    Inserta a[k] entre los elementos anteriores\n",
        "    preservando el orden ascendente (versión 2)\n",
        "    \"\"\"\n",
        "    b=a[k] # b almacena transitoriamente al elemento a[k]\n",
        "    j=k # señala la posición del lugar \"vacío\"\n",
        "    while j>0 and b<a[j-1]:\n",
        "        a[j]=a[j-1]\n",
        "        j-=1\n",
        "    a[j]=b"
      ],
      "execution_count": null,
      "outputs": []
    },
    {
      "cell_type": "markdown",
      "metadata": {
        "id": "-_6T3EYX_Htq"
      },
      "source": [
        "Probemos esto para asegurarnos que funcione bien:"
      ]
    },
    {
      "cell_type": "code",
      "metadata": {
        "id": "rgNh6gp1_Htq",
        "colab": {
          "base_uri": "https://localhost:8080/"
        },
        "outputId": "6f207b8f-fe0c-4816-dd01-29679b0f3305"
      },
      "source": [
        "import numpy as np\n",
        "\n",
        "def verifica_d_ordenado(a,d):\n",
        "    for i in range(0,len(a)-d):\n",
        "        assert a[i]<=a[i+d]\n",
        "    print(\"Arreglo \"+str(d)+\"-ordenado OK.\")\n",
        "        \n",
        "A = np.array([46,35,95,21,82,70,72,56,64,50])\n",
        "ordena_insercion(A)\n",
        "print(A)\n",
        "verifica_d_ordenado(A,1)"
      ],
      "execution_count": null,
      "outputs": [
        {
          "output_type": "stream",
          "text": [
            "[21 35 46 50 56 64 70 72 82 95]\n",
            "Arreglo 1-ordenado OK.\n"
          ],
          "name": "stdout"
        }
      ]
    },
    {
      "cell_type": "markdown",
      "metadata": {
        "id": "-_xXYgvs_Htw"
      },
      "source": [
        "---\n",
        "# Lo que usted tiene que hacer:"
      ]
    },
    {
      "cell_type": "markdown",
      "metadata": {
        "id": "Dc6Hu4Oh_Htw"
      },
      "source": [
        "## 1) Programar una $d$-ordenación\n",
        "\n",
        "Modifique el código anterior para que $d$-ordene el arreglo, para un valor de $d$ dado. Para esto, escriba el código de la función ``d_insertar`` en el espacio provisto:"
      ]
    },
    {
      "cell_type": "code",
      "metadata": {
        "id": "hm9LSyGD_Hty"
      },
      "source": [
        "#Kevin Alexis Iturra Carreño\n",
        "def d_ordena_insercion(a,d):\n",
        "    n=len(a)\n",
        "    for k in range(0,n):\n",
        "        d_insertar(a,k,d)\n",
        "        \n",
        "def d_insertar(a,k,d):\n",
        "  # escriba aquí el código modificado de la función insertar\n",
        "  # para que haga una d-inserción en lugar de una inserción\n",
        "  # Tomamos todos los números que estén entre k+la distancia d y el largo de la lista, recordando que k varía entre 0 y el largo de la lista (len(a))\n",
        "  for i in range(k+d,len(a)):\n",
        "    # b almacena transitoriamente al elemento a[k]\n",
        "    b=a[i]\n",
        "    # Señala la posición del lugar \"vacío\"\n",
        "    j=i\n",
        "    # Aquí, mientras nuestro lugar de \"Vacio\" sea mayor a cero y\n",
        "    # a la vez la variable que almacena nuestro elemento sea menor que el elemento de la posición j-d de la lista\n",
        "    while j>0 and b<a[j-d]:\n",
        "      #se reemplaza de posición el a[j- la distancia d] con el a[j]\n",
        "      a[j]=a[j-d]\n",
        "      #a la variable j se le resta la cantidad d para que\n",
        "      j-=d\n",
        "    #por último reemplazamos a b como a[j]\n",
        "    a[j]=b"
      ],
      "execution_count": null,
      "outputs": []
    },
    {
      "cell_type": "markdown",
      "metadata": {
        "id": "i4BDEa33_Ht4"
      },
      "source": [
        "Pruebe aquí que su algoritmo $3$-ordena correctamente:"
      ]
    },
    {
      "cell_type": "code",
      "metadata": {
        "id": "jdj2YkxJ_Ht5",
        "colab": {
          "base_uri": "https://localhost:8080/"
        },
        "outputId": "7a620c1e-6a19-4114-cfc6-6b93f20d595a"
      },
      "source": [
        "A = np.array([46,35,95,21,82,70,72,56,64,50])\n",
        "d_ordena_insercion(A,3)\n",
        "print(A)\n",
        "verifica_d_ordenado(A,3)"
      ],
      "execution_count": null,
      "outputs": [
        {
          "output_type": "stream",
          "text": [
            "[21 35 64 46 56 70 50 82 95 72]\n",
            "Arreglo 3-ordenado OK.\n"
          ],
          "name": "stdout"
        }
      ]
    },
    {
      "cell_type": "markdown",
      "metadata": {
        "id": "AMroZLuc_HuD"
      },
      "source": [
        "## 2) Programar Shellsort\n",
        "\n",
        "Con esto ya estamos listos para programar Shellsort, haciendo una secuencia de pasadas, variando el valor de $d$ y terminando con $d=1$.Hay muchas formas conocidas de generar la secuencia de valores de $d$, con variados niveles de eficiencia. A continuación, programe Shellsort usando una secuencia decreciente de valores de la forma $d_k=2^k-1$, esto es: $\\ldots, 63, 31, 15, 7, 3, 1$. Se sabe que esta secuencia hace que Shellsort funcione en tiempo $\\Theta(n^{3/2})$:"
      ]
    },
    {
      "cell_type": "code",
      "metadata": {
        "id": "macdtYd8_HuE"
      },
      "source": [
        "#Kevin Alexis Iturra Carreño\n",
        "def ShellSort(a):\n",
        "  \"\"\"Ordena a usando Shell Sort, con la secuencia de valores …,63,31,15,7,3,1\"\"\"\n",
        "  # Escriba aquí el código para invocar d_ordena_insercion reiteradamente\n",
        "  # con la secuencia de valores indicada\n",
        "  #Le asignamos una variable al largo de nuestro arreglo\n",
        "  n=len(a)\n",
        "  #Asignamos otra variable al incremento seleccionado, nuestro caso el de Hibbard\n",
        "  incremento=(2**n)-1\n",
        "  #Para todos los numeros entre 0 y el largo de el arreglo queremos que nos llame a la funcion d_ordena_insercion\n",
        "  for i in range(0,n):\n",
        "    d_ordena_insercion(a,incremento)\n",
        "    #Divide en 2 el resultado y nos entregue la parte entera\n",
        "    incremento//=2"
      ],
      "execution_count": null,
      "outputs": []
    },
    {
      "cell_type": "markdown",
      "metadata": {
        "id": "E9jipDWZ_HuG"
      },
      "source": [
        "Pruebe aquí su algoritmo de la manera siguiente:"
      ]
    },
    {
      "cell_type": "code",
      "metadata": {
        "id": "5fSJaYs9_HuH",
        "colab": {
          "base_uri": "https://localhost:8080/"
        },
        "outputId": "20f5f183-3971-4486-e640-1d227b2c5896"
      },
      "source": [
        "A = np.array([46,35,95,21,82,70,72,56,64,50])\n",
        "ShellSort(A)\n",
        "print(A)\n",
        "verifica_d_ordenado(A,1)"
      ],
      "execution_count": null,
      "outputs": [
        {
          "output_type": "stream",
          "text": [
            "[21 35 46 50 56 64 70 72 82 95]\n",
            "Arreglo 1-ordenado OK.\n"
          ],
          "name": "stdout"
        }
      ]
    },
    {
      "cell_type": "markdown",
      "metadata": {
        "id": "Stky3Ts2_HuJ"
      },
      "source": [
        "En la siguiente celda agregue una prueba similar de ordenación de un arreglo de tamaño $1000$ generado al azar (sin imprimirlo):"
      ]
    },
    {
      "cell_type": "code",
      "metadata": {
        "id": "sS7LH8wn_HuK",
        "colab": {
          "base_uri": "https://localhost:8080/"
        },
        "outputId": "1e82d1ba-3b11-49b0-c086-0dd7d1124d95"
      },
      "source": [
        "#Kevin Alexis Iturra Carreño\n",
        "#importamos random para generar al azar un arreglo de tamaño 1000\n",
        "import random\n",
        "#Crea un arreglo vacío\n",
        "L=[]\n",
        "#Para todos los numeros desde 0 hasta el 1000\n",
        "for i in range(1000):\n",
        "  #Genera al azar 1000 numeros\n",
        "  r=random.randint(0,1000)\n",
        "  #Los agrega al arreglo\n",
        "  L.append(r)\n",
        "  #Llama a la función ShellSort\n",
        "ShellSort(L)\n",
        "#Imprime el arreglo ordenado\n",
        "print(L)\n",
        "#verificamos la función\n",
        "verifica_d_ordenado(L,511)\n",
        "verifica_d_ordenado(L,255)\n",
        "verifica_d_ordenado(L,127)\n",
        "verifica_d_ordenado(L,63)\n",
        "verifica_d_ordenado(L,31)\n",
        "verifica_d_ordenado(L,15)\n",
        "verifica_d_ordenado(L,7)\n",
        "verifica_d_ordenado(L,3)\n",
        "verifica_d_ordenado(L,1)"
      ],
      "execution_count": null,
      "outputs": [
        {
          "output_type": "stream",
          "text": [
            "[0, 2, 3, 4, 5, 7, 7, 8, 8, 9, 9, 11, 13, 16, 16, 18, 19, 19, 21, 21, 21, 23, 23, 23, 24, 24, 25, 25, 27, 28, 28, 29, 30, 32, 34, 34, 34, 35, 35, 35, 35, 36, 36, 40, 40, 41, 42, 42, 42, 45, 46, 47, 47, 51, 52, 53, 54, 57, 58, 58, 59, 60, 61, 65, 66, 66, 66, 67, 67, 69, 74, 75, 76, 77, 78, 80, 83, 83, 83, 84, 87, 88, 88, 89, 89, 91, 92, 93, 95, 95, 96, 96, 97, 98, 98, 98, 99, 100, 101, 104, 105, 106, 107, 108, 109, 111, 114, 115, 115, 115, 116, 117, 117, 117, 118, 118, 118, 120, 120, 120, 123, 123, 124, 124, 124, 126, 126, 127, 128, 129, 129, 130, 133, 134, 134, 134, 135, 138, 139, 142, 143, 144, 145, 147, 148, 148, 148, 148, 149, 152, 152, 153, 154, 155, 155, 155, 155, 157, 159, 159, 160, 160, 160, 160, 160, 161, 162, 164, 165, 166, 167, 167, 169, 169, 170, 174, 174, 175, 175, 175, 176, 177, 178, 179, 179, 183, 184, 184, 186, 187, 188, 188, 190, 190, 190, 192, 193, 194, 194, 196, 196, 197, 198, 198, 198, 198, 199, 200, 200, 200, 201, 201, 202, 205, 206, 208, 208, 209, 209, 209, 211, 212, 214, 214, 214, 216, 216, 217, 217, 218, 218, 220, 220, 220, 220, 221, 221, 221, 222, 223, 224, 224, 226, 227, 229, 229, 229, 231, 232, 232, 233, 233, 236, 239, 239, 239, 241, 241, 241, 243, 244, 244, 245, 245, 246, 246, 246, 247, 247, 248, 249, 250, 257, 257, 257, 260, 260, 261, 261, 262, 262, 264, 264, 264, 265, 266, 269, 270, 271, 273, 274, 275, 275, 277, 277, 277, 278, 280, 280, 284, 284, 288, 288, 288, 289, 289, 290, 293, 293, 293, 294, 294, 295, 295, 296, 297, 297, 298, 298, 298, 299, 299, 300, 301, 302, 303, 304, 304, 307, 307, 310, 310, 311, 311, 311, 312, 313, 315, 318, 318, 319, 319, 322, 322, 324, 324, 327, 327, 328, 328, 328, 330, 330, 331, 334, 334, 336, 336, 337, 338, 339, 340, 340, 341, 341, 341, 341, 342, 342, 343, 343, 345, 345, 345, 345, 345, 345, 347, 347, 347, 349, 350, 351, 351, 354, 354, 355, 356, 357, 363, 363, 363, 364, 365, 368, 369, 371, 372, 372, 376, 376, 379, 379, 380, 382, 383, 383, 383, 384, 387, 387, 388, 389, 389, 390, 391, 393, 393, 393, 394, 395, 395, 401, 403, 403, 407, 407, 407, 407, 408, 408, 409, 411, 415, 417, 420, 421, 422, 422, 424, 427, 429, 429, 429, 430, 430, 432, 432, 433, 433, 434, 434, 434, 434, 435, 435, 435, 436, 436, 437, 441, 442, 442, 442, 443, 444, 445, 445, 446, 447, 447, 450, 452, 452, 453, 453, 454, 455, 455, 457, 458, 459, 462, 463, 465, 467, 467, 467, 467, 468, 469, 469, 470, 470, 472, 472, 472, 474, 477, 478, 478, 479, 480, 480, 480, 481, 481, 482, 482, 483, 484, 486, 486, 487, 488, 489, 489, 490, 491, 491, 492, 494, 496, 496, 498, 499, 499, 500, 502, 503, 505, 505, 506, 508, 508, 509, 509, 510, 511, 513, 514, 516, 517, 517, 518, 519, 519, 520, 520, 521, 524, 526, 526, 528, 530, 531, 531, 534, 535, 536, 538, 539, 540, 540, 541, 542, 543, 543, 544, 545, 545, 547, 547, 549, 552, 552, 554, 555, 560, 562, 562, 562, 566, 569, 573, 574, 575, 575, 578, 583, 584, 585, 585, 586, 586, 587, 588, 588, 589, 589, 593, 594, 594, 594, 596, 598, 599, 600, 600, 600, 601, 602, 603, 604, 606, 607, 610, 610, 611, 612, 614, 614, 614, 615, 617, 617, 618, 618, 618, 618, 618, 619, 619, 626, 626, 627, 629, 629, 630, 630, 632, 632, 634, 634, 635, 635, 637, 638, 640, 641, 642, 645, 646, 648, 648, 648, 649, 650, 650, 653, 653, 654, 656, 660, 660, 662, 663, 663, 664, 665, 665, 665, 666, 667, 668, 668, 668, 669, 673, 678, 678, 680, 681, 682, 682, 683, 684, 684, 685, 685, 688, 689, 691, 691, 691, 692, 693, 694, 694, 695, 695, 695, 696, 699, 699, 700, 703, 704, 705, 706, 707, 708, 709, 710, 712, 713, 716, 717, 717, 719, 719, 720, 720, 720, 722, 723, 724, 724, 725, 725, 726, 726, 727, 728, 730, 731, 732, 734, 734, 736, 738, 738, 739, 740, 740, 740, 741, 743, 743, 744, 744, 744, 745, 746, 750, 750, 751, 753, 756, 758, 759, 759, 760, 761, 761, 762, 762, 763, 763, 764, 764, 765, 768, 770, 771, 771, 774, 775, 776, 778, 779, 780, 780, 782, 782, 782, 783, 785, 787, 789, 790, 791, 792, 794, 795, 796, 798, 798, 799, 802, 802, 804, 804, 805, 806, 807, 807, 808, 811, 813, 814, 816, 816, 818, 819, 819, 819, 822, 824, 824, 824, 825, 827, 828, 828, 828, 828, 830, 831, 832, 832, 833, 833, 834, 835, 837, 839, 840, 841, 841, 843, 845, 846, 846, 847, 848, 848, 852, 852, 852, 853, 854, 855, 856, 856, 857, 858, 860, 861, 862, 863, 867, 868, 869, 870, 870, 872, 872, 872, 872, 873, 874, 875, 876, 876, 876, 877, 878, 879, 880, 882, 883, 883, 885, 886, 887, 887, 888, 888, 888, 888, 889, 889, 891, 892, 893, 893, 894, 895, 895, 896, 897, 898, 899, 899, 900, 901, 902, 902, 903, 903, 903, 905, 906, 907, 907, 908, 908, 909, 910, 911, 911, 912, 912, 913, 914, 916, 918, 918, 920, 923, 925, 925, 925, 925, 926, 927, 928, 928, 929, 936, 937, 939, 940, 942, 942, 943, 944, 946, 947, 952, 953, 954, 956, 957, 957, 959, 960, 962, 962, 963, 964, 966, 967, 967, 967, 968, 969, 969, 970, 971, 973, 974, 974, 975, 975, 976, 979, 980, 982, 983, 983, 984, 985, 985, 985, 988, 988, 989, 990, 991, 991, 992, 993, 994, 995, 995, 995, 999, 999]\n",
            "Arreglo 511-ordenado OK.\n",
            "Arreglo 255-ordenado OK.\n",
            "Arreglo 127-ordenado OK.\n",
            "Arreglo 63-ordenado OK.\n",
            "Arreglo 31-ordenado OK.\n",
            "Arreglo 15-ordenado OK.\n",
            "Arreglo 7-ordenado OK.\n",
            "Arreglo 3-ordenado OK.\n",
            "Arreglo 1-ordenado OK.\n"
          ],
          "name": "stdout"
        }
      ]
    },
    {
      "cell_type": "markdown",
      "metadata": {
        "id": "X38mE4fQ_HuR"
      },
      "source": [
        "## 3) Probar con una secuencia diferente de valores $d_k$\n",
        "\n",
        "Finalmente, investigue respecto de otras maneras de generar la secuencia $d_k$, escoja una secuencia en particular, modifique su versión de Shellsort que la use y pruébela."
      ]
    },
    {
      "cell_type": "code",
      "metadata": {
        "id": "ASBkDPca_HuS"
      },
      "source": [
        "#Kevin Alexis Iturra Carreño\n",
        "def Shellsort(a):\n",
        "  \"\"\"Ordena a usando Shell Sort, con la secuencia de valores …,364,121,40,13,4,1,0(Secuencia de Knuth) [(3^n)-1]/2\"\"\"\n",
        "  #La fórmula de la secuecnia utilizada fue sacada de https://en.wikipedia.org/wiki/Shellsort en el apartado gap sequences\n",
        "  #Cabe recalcar que las modificaciones que se le hizo al anterior ShellSort son mínimas por lo que los códigos son muy similares.\n",
        "  #Escriba aquí el código para invocar d_ordena_insercion reiteradamente\n",
        "  # con la secuencia de valores indicada\n",
        "  #Le asignamos una variable al largo de nuestro arreglo\n",
        "  n=len(a)\n",
        "  #Asignamos otra variable al incremento seleccionado, nuestro caso el de Knuth\n",
        "  incremento=((3**n)-1)//2\n",
        "  #Para todos los numeros entre 0 y el largo de el arreglo queremos que nos llame a la funcion d_ordena_insercion\n",
        "  for i in range(0,n):\n",
        "    d_ordena_insercion(a,incremento)\n",
        "    #Divide en 3 el resultado y nos entregue la parte entera\n",
        "    incremento//=3 "
      ],
      "execution_count": null,
      "outputs": []
    },
    {
      "cell_type": "code",
      "metadata": {
        "colab": {
          "base_uri": "https://localhost:8080/"
        },
        "id": "cbFlrOi8t7cS",
        "outputId": "264094d5-6dd6-44a6-9f21-4702fa6113fd"
      },
      "source": [
        "A = np.array([40,35,91,29,86,70,77,55,4,50])\n",
        "Shellsort(A)\n",
        "print(A)\n",
        "verifica_d_ordenado(A,7)\n",
        "verifica_d_ordenado(A,3)\n",
        "verifica_d_ordenado(A,1)"
      ],
      "execution_count": null,
      "outputs": [
        {
          "output_type": "stream",
          "text": [
            "[ 4 29 35 40 50 55 70 77 86 91]\n",
            "Arreglo 7-ordenado OK.\n",
            "Arreglo 3-ordenado OK.\n",
            "Arreglo 1-ordenado OK.\n"
          ],
          "name": "stdout"
        }
      ]
    },
    {
      "cell_type": "markdown",
      "metadata": {
        "id": "v_UwExwo_HuW"
      },
      "source": [
        "## ¿Qué hay que entregar?\n",
        "\n",
        "Usted debe entregar este mismo archivo, modificado de acuerdo a lo que se pide. Haga todos los cambios necesarios para explicar y documentar adecuadamente su código. Cite todas las fuentes de información utilizadas. **No olvide poner su nombre en el encabezamiento**."
      ]
    }
  ]
}