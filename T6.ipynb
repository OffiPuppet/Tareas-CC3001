{
  "nbformat": 4,
  "nbformat_minor": 0,
  "metadata": {
    "kernelspec": {
      "display_name": "Python 3",
      "language": "python",
      "name": "python3"
    },
    "language_info": {
      "codemirror_mode": {
        "name": "ipython",
        "version": 3
      },
      "file_extension": ".py",
      "mimetype": "text/x-python",
      "name": "python",
      "nbconvert_exporter": "python",
      "pygments_lexer": "ipython3",
      "version": "3.7.1"
    },
    "colab": {
      "name": "T6",
      "provenance": [],
      "collapsed_sections": []
    }
  },
  "cells": [
    {
      "cell_type": "markdown",
      "metadata": {
        "id": "W264sNBjewyS"
      },
      "source": [
        "# CC3001 Otoño 2021 Tarea 6\n",
        "# Hashing\n",
        "## Profesores\n",
        "Patricio Poblete, Nelson Baloian, Ivan Sipiran"
      ]
    },
    {
      "cell_type": "markdown",
      "metadata": {
        "id": "m8Rb6XLFewyT"
      },
      "source": [
        "---\n",
        "\n",
        "# CONTEXTO"
      ]
    },
    {
      "cell_type": "markdown",
      "metadata": {
        "id": "qO1wwYo7ewyW"
      },
      "source": [
        "En esta tarea vamos a comparar empíricamente el comportamiento de dos implementaciones de Hashing, las cuales Ud. tendrá que implementar y ejecutar con un archivo de texto de prueba. \n",
        "La idea es ir leyendo cada palabra del archivo y buscarla en la estructura. Si no estaba, se inserta, si estaba no se hace nada. En ambos casos se retorna el número de comparaciones que se hicieron para llegar a insertarlo o para determinar que efectivamente estaba. Las comparaciones que se cuentan son exclusivamente entre llaves y NO entre punteros, es decir una comparacion \n",
        "`p == None` o `p != None` no se cuenta.  \n",
        "Al final de haber procesado todo el archivo se debe dar el número promedio y el número máximo de comparaciones que se hicieron. Los métodos de hashing que debe implementar son:\n",
        "\n",
        "1- Hashing con encadenamiento\n",
        "\n",
        "2- Hashing con linear probing \n",
        "\n",
        "Para ambos casos use una tabla de 1000 elementos (el número de palabras distintas en el archivo es de 717, por lo que estamos usando una tabla de cerca del 30% más grande que el número de elementos que contendrá)\n",
        "\n",
        "Para ambos casos puede usar la siguiente funcion de hashing:\n",
        "\n"
      ]
    },
    {
      "cell_type": "code",
      "metadata": {
        "id": "U6eWVvuTou4B"
      },
      "source": [
        "def myhash(x,m):\n",
        "  return hash(x)%m"
      ],
      "execution_count": null,
      "outputs": []
    },
    {
      "cell_type": "markdown",
      "metadata": {
        "id": "UQ3mbNcPLDGL"
      },
      "source": [
        "Para ambas versiones de hashing que se le pide puede usar la siguiente plantilla y modificarla (llame Chaining a a la version con encadenamiento y LinearProbing a la de direccionamiento abierto), note que para Chaining ademas debe declarar un nodo para implementar el encadenamiento)"
      ]
    },
    {
      "cell_type": "code",
      "metadata": {
        "id": "JLwRwHBdewyX"
      },
      "source": [
        "#Kevin Alexis Iturra Carreño\n",
        "import numpy as np\n",
        "# Creamos la clase NodoLista que nos ayudará con el Chaining\n",
        "class NodoLista:\n",
        "    def __init__(self,info,sgte=None):\n",
        "        self.info=info\n",
        "        self.sgte=sgte\n",
        "        \n",
        "# Creamos la clase Chaining tal cual salía en un principio\n",
        "class Chaining:\n",
        "  def __init__(self,m):\n",
        "    self.m=m\n",
        "    self.t=np.empty(m, dtype=np.object)\n",
        "    for i in range(m):\n",
        "      self.t[i]=NodoLista(None)\n",
        "\n",
        "  def insert(self,x): \n",
        "    # Creamos una variable que guarde el hash de el elemento con m y a eso le hace %m\n",
        "    p=(myhash(x,self.m))%self.m\n",
        "    # Count comparisons\n",
        "    c=0\n",
        "    # Mientars True asignamos dos variables, una h=self.t[p] y otra i=h\n",
        "    while True:\n",
        "      h=self.t[p]\n",
        "      i=h\n",
        "      # Si i es vacío, entonces self.t[p] toma el valor de x y retorna c\n",
        "      if i==None:\n",
        "        self.t[p]=x\n",
        "        return c\n",
        "      # Si h es diferente de vacío, entonces h=self.t[p] e i será h.info\n",
        "      if h!=None:\n",
        "        h=self.t[p]\n",
        "        i=h.info\n",
        "        #Si h es igual a x entonces nuestra contador aumenta en uno y retorna c\n",
        "        if h==x:\n",
        "          c+=1\n",
        "          return c\n",
        "        # Sino, también lo aumenta ya que es el caso que son diferentes y si cuenta como una comparación\n",
        "        else:\n",
        "          c+=1\n",
        "      # Retornamos c\n",
        "      return c \n",
        "  \n",
        "  def RTChaining(self,L):\n",
        "    #Creamos una lista vacía\n",
        "    g=[]\n",
        "    # Creamos dos variables con valor 0\n",
        "    h=0\n",
        "    j=0\n",
        "    # Para todos los elementos en la lista L, los agregaremos con append a la lista vacía g. Luego sumaremos a la variable h self.insert y a j le sumamos 1\n",
        "    for i in L:\n",
        "      g.append(self.insert(i))\n",
        "      h+=self.insert(i)\n",
        "      j+=1\n",
        "    # Nueva variable para el máximo de comparaciones\n",
        "    k=max(g)\n",
        "    # El promedio será la división entera de h//j\n",
        "    average=(h/j)\n",
        "    # Retornamos algún mensaje con el máximo de comparaciones y el promedio de comparaciones con este hash de Chaining\n",
        "    return \"El máximo número de comparaciones con Chaining es:\"+str(k)+\" Y, el promedio de comparaciones es:\"+str(average)\n",
        "\n",
        "# Creamos la clase LinearProbing con el constructor similar al de Chaining\n",
        "class LinearProbing:\n",
        "  def __init__(self,m):\n",
        "    self.m=m\n",
        "    self.t=np.empty(m, dtype=np.object)\n",
        "    for i in range(m):\n",
        "      self.t[i]=None\n",
        "\n",
        "  # Definimos la función insertar que hará el trabajo de contar las comparaciones\n",
        "  def insert(self, x):\n",
        "    # asignamos a una variable el valor de myhash con el valor dado y self.m\n",
        "    p=myhash(x,self.m)\n",
        "    # Contador\n",
        "    c=0\n",
        "    # Mientras True\n",
        "    while True:\n",
        "      # a será la variable que nos dirá que hay en la posición p del hash\n",
        "      a=self.t[p]\n",
        "      # Si a es vacío, entonces x será el valor en la psoción p del hash(lo inserta en la tabla hash) y retorna el contador\n",
        "      if a==None:\n",
        "        self.t[p]=x \n",
        "        return c\n",
        "      # Si el valor de la posición es igual a x, entonces aumentamos nuestro contador en 1 y retornamos el mismo\n",
        "      if a==x:\n",
        "        c+=1\n",
        "        return c\n",
        "      # Sino, auemntamos en uno la posición al igual que el contador, retornamos el contador\n",
        "      else:\n",
        "        p=(p+1)%self.m           \n",
        "        c+=1\n",
        "    return c\n",
        "\n",
        "  #Esta función nos leerá el archivo para el LinearProbing\n",
        "  def RTLinearProbing(self,L):\n",
        "    #Creamos una lista vacía\n",
        "    g=[]\n",
        "    # Creamos dos variables con valor 0\n",
        "    h=0\n",
        "    j=0\n",
        "    # Para todos los elementos en la lista L, los agregaremos con append a la lista vacía g. Luego sumaremos a la variable h self.insert y a j le sumamos 1\n",
        "    for i in L:\n",
        "      g.append(self.insert(i))\n",
        "      h+=self.insert(i)\n",
        "      j+=1\n",
        "    # Nueva variable para el máximo de comparaciones\n",
        "    k=max(g)\n",
        "    # El promedio será la división de h/j\n",
        "    average=(h/j)\n",
        "    # Retornamos algún mensaje con el máximo de comparaciones y el promedio de comparaciones con este hash de LinearProbing\n",
        "    return \"El máximo número de comparaciones con LinearProbing es:\"+str(k)+\" Y, el promedio de comparaciones es:\"+str(average)"
      ],
      "execution_count": null,
      "outputs": []
    },
    {
      "cell_type": "markdown",
      "metadata": {
        "id": "fDxlhHBPewyd"
      },
      "source": [
        "Para acceder al archivo debe ejecutar primero las siguientes instrucciones:\n"
      ]
    },
    {
      "cell_type": "code",
      "metadata": {
        "id": "mttibXr-JnKk",
        "colab": {
          "base_uri": "https://localhost:8080/"
        },
        "outputId": "5814db2e-0577-4ee1-f853-2b0fe67c3500"
      },
      "source": [
        "!wget http://www.dcc.uchile.cl/nbaloian/cc3001/cap1.txt"
      ],
      "execution_count": null,
      "outputs": [
        {
          "output_type": "stream",
          "text": [
            "--2021-06-21 01:49:45--  http://www.dcc.uchile.cl/nbaloian/cc3001/cap1.txt\n",
            "Resolving www.dcc.uchile.cl (www.dcc.uchile.cl)... 200.9.99.213, 192.80.24.11\n",
            "Connecting to www.dcc.uchile.cl (www.dcc.uchile.cl)|200.9.99.213|:80... connected.\n",
            "HTTP request sent, awaiting response... 301 Moved Permanently\n",
            "Location: https://www.dcc.uchile.cl/nbaloian/cc3001/cap1.txt [following]\n",
            "--2021-06-21 01:49:46--  https://www.dcc.uchile.cl/nbaloian/cc3001/cap1.txt\n",
            "Connecting to www.dcc.uchile.cl (www.dcc.uchile.cl)|200.9.99.213|:443... connected.\n",
            "HTTP request sent, awaiting response... 302 Found\n",
            "Location: https://users.dcc.uchile.cl/~nbaloian/cc3001/cap1.txt [following]\n",
            "--2021-06-21 01:49:47--  https://users.dcc.uchile.cl/~nbaloian/cc3001/cap1.txt\n",
            "Resolving users.dcc.uchile.cl (users.dcc.uchile.cl)... 200.9.99.211, 192.80.24.4\n",
            "Connecting to users.dcc.uchile.cl (users.dcc.uchile.cl)|200.9.99.211|:443... connected.\n",
            "HTTP request sent, awaiting response... 200 OK\n",
            "Length: 10367 (10K) [text/plain]\n",
            "Saving to: ‘cap1.txt.10’\n",
            "\n",
            "cap1.txt.10         100%[===================>]  10.12K  --.-KB/s    in 0s      \n",
            "\n",
            "2021-06-21 01:49:47 (149 MB/s) - ‘cap1.txt.10’ saved [10367/10367]\n",
            "\n"
          ],
          "name": "stdout"
        }
      ]
    },
    {
      "cell_type": "markdown",
      "metadata": {
        "id": "vZprKenmJxB7"
      },
      "source": [
        "Despues de esto se puede leer el archivo palabra por palabra de la siguiente manera: "
      ]
    },
    {
      "cell_type": "code",
      "metadata": {
        "id": "0MwfhoUwewye",
        "colab": {
          "base_uri": "https://localhost:8080/"
        },
        "outputId": "33048d3a-2064-4041-a02c-e4923f2b21dc"
      },
      "source": [
        "f=open(\"cap1.txt\",\"r\")\n",
        "texto=f.read()\n",
        "palabras=texto.split()\n",
        "#esto deja en palabras una lista python en que cada elemento es una palabra del archivo\n",
        "\n",
        "# Asignamos cuatro variable, la primera llama a la clase LinearProbing con argumento el largo de la lista palabras,\n",
        "# la segunda lee el archivo con LinearProbing, la tercera llama a la clase Chaining con argumento el alrgo dela lista palabras\n",
        "# la última variable lee el archivo con Chaining. Por último hacemos print para la segunda y cuarta variable y obtenemos\n",
        "# Tanto el número de comparaciones máximas como el promedio de comparaciones.\n",
        "k=LinearProbing(len(palabras))\n",
        "h=k.RTLinearProbing(palabras)\n",
        "i=Chaining(len(palabras))\n",
        "j=i.RTChaining(palabras)\n",
        "print(h)\n",
        "print(j)\n",
        "#   - crear una estructura Hashing1 y otra Hashing2\n",
        "#   - insertar/buscar cada una de las palabras en ambas estructuras registrando el costo\n",
        "#   - finalmente imprimir las estadisticas pedidas"
      ],
      "execution_count": null,
      "outputs": [
        {
          "output_type": "stream",
          "text": [
            "El máximo número de comparaciones con LinearProbing es:8 Y, el promedio de comparaciones es:1.1922257720979765\n",
            "El máximo número de comparaciones con Chaining es:1 Y, el promedio de comparaciones es:1.0\n"
          ],
          "name": "stdout"
        }
      ]
    },
    {
      "cell_type": "markdown",
      "metadata": {
        "id": "j3LxIBHAewzE"
      },
      "source": [
        "## ¿Qué hay que entregar?\n",
        "\n",
        "Usted debe entregar este mismo archivo, modificado de acuerdo a lo que se pide. Haga todos los cambios necesarios para explicar y documentar adecuadamente su código. No olvide poner su nombre."
      ]
    }
  ]
}